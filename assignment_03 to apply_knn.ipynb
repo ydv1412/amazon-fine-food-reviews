{
 "cells": [
  {
   "cell_type": "code",
   "execution_count": 234,
   "metadata": {},
   "outputs": [],
   "source": [
    "import sqlite3\n",
    "import numpy as np\n",
    "import pandas as pd \n",
    "from sklearn.feature_extraction.text import CountVectorizer\n",
    "from sklearn.feature_extraction.text import TfidfVectorizer\n",
    "from sklearn.manifold import TSNE\n",
    "import seaborn as sns\n",
    "import matplotlib.pyplot as plt\n",
    "from sklearn.neighbors import KNeighborsClassifier\n",
    "from sklearn import model_selection\n",
    "from sklearn.metrics import accuracy_score\n",
    "from gensim.models import Word2Vec\n",
    "from tqdm import tqdm\n",
    "from sklearn.neighbors import KDTree\n",
    "from sklearn.metrics import plot_confusion_matrix\n",
    "import random\n",
    "from sklearn.metrics import roc_curve,auc"
   ]
  },
  {
   "cell_type": "code",
   "execution_count": 166,
   "metadata": {},
   "outputs": [],
   "source": [
    "conn = sqlite3.connect(\"final_2.sqlite\")"
   ]
  },
  {
   "cell_type": "code",
   "execution_count": 167,
   "metadata": {},
   "outputs": [],
   "source": [
    "d_f = pd.read_sql_query(\"SELECT * FROM Reviews\",conna)"
   ]
  },
  {
   "cell_type": "code",
   "execution_count": 168,
   "metadata": {},
   "outputs": [
    {
     "data": {
      "text/html": [
       "<div>\n",
       "<style scoped>\n",
       "    .dataframe tbody tr th:only-of-type {\n",
       "        vertical-align: middle;\n",
       "    }\n",
       "\n",
       "    .dataframe tbody tr th {\n",
       "        vertical-align: top;\n",
       "    }\n",
       "\n",
       "    .dataframe thead th {\n",
       "        text-align: right;\n",
       "    }\n",
       "</style>\n",
       "<table border=\"1\" class=\"dataframe\">\n",
       "  <thead>\n",
       "    <tr style=\"text-align: right;\">\n",
       "      <th></th>\n",
       "      <th>Id</th>\n",
       "      <th>ProductId</th>\n",
       "      <th>UserId</th>\n",
       "      <th>ProfileName</th>\n",
       "      <th>HelpfulnessNumerator</th>\n",
       "      <th>HelpfulnessDenominator</th>\n",
       "      <th>Score</th>\n",
       "      <th>Time</th>\n",
       "      <th>Summary</th>\n",
       "      <th>Text</th>\n",
       "      <th>Cleaned_text</th>\n",
       "      <th>Cleaned_Summary</th>\n",
       "    </tr>\n",
       "  </thead>\n",
       "  <tbody>\n",
       "    <tr>\n",
       "      <th>0</th>\n",
       "      <td>2774</td>\n",
       "      <td>B00002NCJC</td>\n",
       "      <td>A196AJHU9EASJN</td>\n",
       "      <td>Alex Chaffee</td>\n",
       "      <td>0</td>\n",
       "      <td>0</td>\n",
       "      <td>1</td>\n",
       "      <td>1282953600</td>\n",
       "      <td>thirty bucks?</td>\n",
       "      <td>Why is this $[...] when the same product is av...</td>\n",
       "      <td>product available victor traps unreal course t...</td>\n",
       "      <td>thirty bucks</td>\n",
       "    </tr>\n",
       "    <tr>\n",
       "      <th>1</th>\n",
       "      <td>2775</td>\n",
       "      <td>B00002NCJC</td>\n",
       "      <td>A13RRPGE79XFFH</td>\n",
       "      <td>reader48</td>\n",
       "      <td>0</td>\n",
       "      <td>0</td>\n",
       "      <td>1</td>\n",
       "      <td>1281052800</td>\n",
       "      <td>Flies Begone</td>\n",
       "      <td>We have used the Victor fly bait for 3 seasons...</td>\n",
       "      <td>used victor fly bait seasons not beat great pr...</td>\n",
       "      <td>Flies Begone</td>\n",
       "    </tr>\n",
       "  </tbody>\n",
       "</table>\n",
       "</div>"
      ],
      "text/plain": [
       "     Id   ProductId          UserId   ProfileName  HelpfulnessNumerator  \\\n",
       "0  2774  B00002NCJC  A196AJHU9EASJN  Alex Chaffee                     0   \n",
       "1  2775  B00002NCJC  A13RRPGE79XFFH      reader48                     0   \n",
       "\n",
       "   HelpfulnessDenominator  Score        Time        Summary  \\\n",
       "0                       0      1  1282953600  thirty bucks?   \n",
       "1                       0      1  1281052800   Flies Begone   \n",
       "\n",
       "                                                Text  \\\n",
       "0  Why is this $[...] when the same product is av...   \n",
       "1  We have used the Victor fly bait for 3 seasons...   \n",
       "\n",
       "                                        Cleaned_text Cleaned_Summary  \n",
       "0  product available victor traps unreal course t...    thirty bucks  \n",
       "1  used victor fly bait seasons not beat great pr...    Flies Begone  "
      ]
     },
     "execution_count": 168,
     "metadata": {},
     "output_type": "execute_result"
    }
   ],
   "source": [
    "d_f.head(2)"
   ]
  },
  {
   "cell_type": "code",
   "execution_count": 169,
   "metadata": {},
   "outputs": [],
   "source": [
    "#### BOW vectorisation"
   ]
  },
  {
   "cell_type": "code",
   "execution_count": 138,
   "metadata": {},
   "outputs": [
    {
     "data": {
      "text/plain": [
       "(4986, 1500)"
      ]
     },
     "execution_count": 138,
     "metadata": {},
     "output_type": "execute_result"
    }
   ],
   "source": [
    "model = CountVectorizer(min_df = 10 , max_features = 1500)\n",
    "BOW_1500d = model.fit_transform(d_f[\"Cleaned_text\"])\n",
    "BOW_1500d.shape"
   ]
  },
  {
   "cell_type": "code",
   "execution_count": 139,
   "metadata": {},
   "outputs": [],
   "source": [
    "### per = 30\n",
    "tsne_model = TSNE(n_components = 2 ,n_iter = 1000 , perplexity = 30)\n",
    "BOW_2d = tsne_model.fit_transform(BOW_1500d)\n"
   ]
  },
  {
   "cell_type": "code",
   "execution_count": 140,
   "metadata": {},
   "outputs": [
    {
     "data": {
      "image/png": "[encoded data removed]",
      "text/plain": [
       "<Figure size 484x432 with 1 Axes>"
      ]
     },
     "metadata": {
      "needs_background": "light"
     },
     "output_type": "display_data"
    }
   ],
   "source": [
    "BOW_3d = np.vstack((BOW_2d.T , d_f[\"Score\"])).T\n",
    "BOW_df = pd.DataFrame(data = BOW_3d , columns = (\"feature1\" , \"feature2\" ,\"score\"))\n",
    "### plotting\n",
    "sns.FacetGrid(BOW_df ,hue=\"score\" , height = 6).map(plt.scatter , \"feature1\" ,\"feature2\" ).add_legend()\n",
    "plt.title(\"per=30 BOW\")\n",
    "plt.show()"
   ]
  },
  {
   "cell_type": "code",
   "execution_count": 141,
   "metadata": {},
   "outputs": [
    {
     "data": {
      "image/png": "[encoded data removed]",
      "text/plain": [
       "<Figure size 484x432 with 1 Axes>"
      ]
     },
     "metadata": {
      "needs_background": "light"
     },
     "output_type": "display_data"
    }
   ],
   "source": [
    "### per = 100\n",
    "tsne_model = TSNE(n_components = 2 ,n_iter = 1000 , perplexity = 100)\n",
    "BOW_2d = tsne_model.fit_transform(BOW_1500d)\n",
    "BOW_3d = np.vstack((BOW_2d.T , d_f[\"Score\"])).T\n",
    "BOW_df = pd.DataFrame(data = BOW_3d , columns = (\"feature1\" , \"feature2\" ,\"score\"))\n",
    "### plotting\n",
    "sns.FacetGrid(BOW_df ,hue=\"score\" , height = 6).map(plt.scatter , \"feature1\" ,\"feature2\" ).add_legend()\n",
    "plt.title(\"per=30 BOW\")\n",
    "plt.show()"
   ]
  },
  {
   "cell_type": "code",
   "execution_count": 11,
   "metadata": {},
   "outputs": [],
   "source": [
    "### splitting the data_set into train and test sets\n",
    "x_train , x_test , y_train , y_test = model_selection.train_test_split( BOW_1500d , d_f[\"Score\"] , test_size = 0.3 ,random_state = 5)"
   ]
  },
  {
   "cell_type": "code",
   "execution_count": 12,
   "metadata": {},
   "outputs": [
    {
     "name": "stdout",
     "output_type": "stream",
     "text": [
      "(3490, 1500)\n",
      "(1496, 1500)\n",
      "(3490,)\n",
      "(1496,)\n"
     ]
    }
   ],
   "source": [
    "print(x_train.shape)\n",
    "print(x_test.shape)\n",
    "print(y_train.shape)\n",
    "print(y_test.shape)"
   ]
  },
  {
   "cell_type": "code",
   "execution_count": 13,
   "metadata": {},
   "outputs": [
    {
     "name": "stdout",
     "output_type": "stream",
     "text": [
      "accuracy for k= 5 is 83\n"
     ]
    }
   ],
   "source": [
    "#### bruteforce k\n",
    "k = 5\n",
    "knn = KNeighborsClassifier(n_neighbors = k , weights = \"distance\")\n",
    "knn.fit(x_train , y_train)\n",
    "predicted_values = knn.predict(x_test)\n",
    "accuracy = accuracy_score(y_test , predicted_values , normalize = True)*float(100)\n",
    "print(\"accuracy for k= %d is %d\"%(k,accuracy))"
   ]
  },
  {
   "cell_type": "code",
   "execution_count": 14,
   "metadata": {},
   "outputs": [
    {
     "data": {
      "text/plain": [
       "1    4178\n",
       "0     808\n",
       "Name: Score, dtype: int64"
      ]
     },
     "execution_count": 14,
     "metadata": {},
     "output_type": "execute_result"
    }
   ],
   "source": [
    "d_f[\"Score\"].value_counts()"
   ]
  },
  {
   "cell_type": "code",
   "execution_count": 15,
   "metadata": {},
   "outputs": [
    {
     "name": "stdout",
     "output_type": "stream",
     "text": [
      "1460\n",
      "36\n"
     ]
    }
   ],
   "source": [
    "print(np.count_nonzero(predicted_values==1))\n",
    "print(np.count_nonzero(predicted_values==0))"
   ]
  },
  {
   "cell_type": "code",
   "execution_count": 16,
   "metadata": {},
   "outputs": [
    {
     "name": "stdout",
     "output_type": "stream",
     "text": [
      "for k = 1 accuracy is 81\n",
      "for k = 3 accuracy is 84\n",
      "for k = 5 accuracy is 84\n",
      "for k = 7 accuracy is 84\n",
      "for k = 9 accuracy is 84\n",
      "for k = 11 accuracy is 84\n",
      "for k = 13 accuracy is 84\n",
      "for k = 15 accuracy is 84\n",
      "for k = 17 accuracy is 84\n",
      "for k = 19 accuracy is 84\n",
      "for k = 21 accuracy is 84\n",
      "for k = 23 accuracy is 84\n",
      "for k = 25 accuracy is 84\n",
      "for k = 27 accuracy is 84\n",
      "for k = 29 accuracy is 84\n",
      "for k = 31 accuracy is 84\n",
      "for k = 33 accuracy is 84\n",
      "for k = 35 accuracy is 84\n",
      "for k = 37 accuracy is 84\n",
      "for k = 39 accuracy is 84\n",
      "for k = 41 accuracy is 84\n",
      "for k = 43 accuracy is 84\n",
      "for k = 45 accuracy is 84\n",
      "for k = 47 accuracy is 84\n",
      "for k = 49 accuracy is 84\n",
      "optimal_k is 5\n"
     ]
    }
   ],
   "source": [
    "### as we can see the percentage of data point having d_f[\"Score\"] ==1 are 83.79%,,,so this model is dumb model\n",
    "#### grid search for optimal k using 10 fold cv\n",
    "k = list(range(0,50))\n",
    "k = list(filter(lambda x : x%2 != 0,k))\n",
    "cv = []\n",
    "for i in k:\n",
    "    model = KNeighborsClassifier(n_neighbors = i, weights = \"distance\")\n",
    "    accuracy = model_selection.cross_val_score(model , x_train , y_train ,cv = 10 , scoring = \"accuracy\")*float(100)\n",
    "    print(\"for k = %d accuracy is %d\"%(i,accuracy.mean()))\n",
    "    cv.append(accuracy.mean())\n",
    "\n",
    "optimal_k = k[cv.index(max(cv))]\n",
    "    \n",
    "print(\"optimal_k is %d\" %optimal_k)"
   ]
  },
  {
   "cell_type": "code",
   "execution_count": 17,
   "metadata": {},
   "outputs": [
    {
     "name": "stdout",
     "output_type": "stream",
     "text": [
      "for k= 5 accuracy is 83\n"
     ]
    }
   ],
   "source": [
    "### accuracy score on unseen test data at k=5\n",
    "knn = KNeighborsClassifier(n_neighbors = optimal_k , weights = \"distance\")\n",
    "knn.fit(x_train , y_train)\n",
    "predicted_y = knn.predict(x_test)\n",
    "accuracy = accuracy_score( y_test , predicted_y , normalize = True)*float(100)\n",
    "print(\"for k= %d accuracy is %d\"%(optimal_k , accuracy))"
   ]
  },
  {
   "cell_type": "code",
   "execution_count": 18,
   "metadata": {},
   "outputs": [
    {
     "name": "stdout",
     "output_type": "stream",
     "text": [
      "1460\n",
      "36\n"
     ]
    }
   ],
   "source": [
    "print(np.count_nonzero(predicted_y ==1))\n",
    "print(np.count_nonzero(predicted_y ==0))"
   ]
  },
  {
   "cell_type": "code",
   "execution_count": 170,
   "metadata": {},
   "outputs": [
    {
     "data": {
      "text/plain": [
       "(4986, 1500)"
      ]
     },
     "execution_count": 170,
     "metadata": {},
     "output_type": "execute_result"
    }
   ],
   "source": [
    "### bigram _knn\n",
    "model = CountVectorizer(min_df = 10 , max_features = 1500 , ngram_range = (1,2))\n",
    "bi_gram_1500d = model.fit_transform(d_f[\"Cleaned_text\"])\n",
    "bi_gram_1500d.shape"
   ]
  },
  {
   "cell_type": "code",
   "execution_count": 171,
   "metadata": {},
   "outputs": [
    {
     "data": {
      "text/plain": [
       "['able',\n",
       " 'able find',\n",
       " 'absolute',\n",
       " 'absolutely',\n",
       " 'absolutely love',\n",
       " 'acid',\n",
       " 'across',\n",
       " 'actual',\n",
       " 'actually',\n",
       " 'add']"
      ]
     },
     "execution_count": 171,
     "metadata": {},
     "output_type": "execute_result"
    }
   ],
   "source": [
    "model.get_feature_names()[:10]"
   ]
  },
  {
   "cell_type": "code",
   "execution_count": 21,
   "metadata": {},
   "outputs": [],
   "source": [
    "x_train , x_test , y_train , y_test =  model_selection.train_test_split(bi_gram_1500d , d_f[\"Score\"] , test_size = 0.3)"
   ]
  },
  {
   "cell_type": "code",
   "execution_count": 22,
   "metadata": {},
   "outputs": [
    {
     "name": "stdout",
     "output_type": "stream",
     "text": [
      "(3490, 1500)\n",
      "(1496, 1500)\n",
      "(3490,)\n",
      "(1496,)\n"
     ]
    }
   ],
   "source": [
    "print(x_train.shape)\n",
    "print(x_test.shape)\n",
    "print(y_train.shape)\n",
    "print(y_test.shape)"
   ]
  },
  {
   "cell_type": "code",
   "execution_count": 23,
   "metadata": {},
   "outputs": [
    {
     "name": "stdout",
     "output_type": "stream",
     "text": [
      "for k = 1 accuracy is 76\n",
      "for k = 3 accuracy is 81\n",
      "for k = 5 accuracy is 82\n",
      "for k = 7 accuracy is 83\n",
      "for k = 9 accuracy is 83\n",
      "for k = 11 accuracy is 83\n",
      "for k = 13 accuracy is 83\n",
      "for k = 15 accuracy is 83\n",
      "for k = 17 accuracy is 83\n",
      "for k = 19 accuracy is 83\n",
      "for k = 21 accuracy is 83\n",
      "for k = 23 accuracy is 83\n",
      "for k = 25 accuracy is 83\n",
      "for k = 27 accuracy is 83\n",
      "for k = 29 accuracy is 83\n",
      "for k = 31 accuracy is 83\n",
      "for k = 33 accuracy is 83\n",
      "for k = 35 accuracy is 83\n",
      "for k = 37 accuracy is 83\n",
      "for k = 39 accuracy is 83\n",
      "for k = 41 accuracy is 83\n",
      "for k = 43 accuracy is 83\n",
      "for k = 45 accuracy is 83\n",
      "for k = 47 accuracy is 83\n",
      "for k = 49 accuracy is 83\n",
      "optimal_k is 11\n"
     ]
    }
   ],
   "source": [
    "#### grid search for optimal k using 10 fold cv on bi_gram\n",
    "k = list(range(0,50))\n",
    "k = list(filter(lambda x : x%2 != 0,k))\n",
    "cv = []\n",
    "for i in k:\n",
    "    model = KNeighborsClassifier(n_neighbors = i, weights = \"distance\")\n",
    "    accuracy = model_selection.cross_val_score(model , x_train , y_train ,cv = 10 , scoring = \"accuracy\")*float(100)\n",
    "    print(\"for k = %d accuracy is %d\"%(i,accuracy.mean()))\n",
    "    cv.append(accuracy.mean())\n",
    "\n",
    "optimal_k = k[cv.index(max(cv))]\n",
    "print(\"optimal_k is %d\" %optimal_k)"
   ]
  },
  {
   "cell_type": "code",
   "execution_count": 24,
   "metadata": {},
   "outputs": [
    {
     "name": "stdout",
     "output_type": "stream",
     "text": [
      "for k= 11 accuracy is 84\n"
     ]
    }
   ],
   "source": [
    "### accuracy score on unseen test data at k=49\n",
    "knn = KNeighborsClassifier(n_neighbors = optimal_k , weights = \"distance\")\n",
    "knn.fit(x_train , y_train)\n",
    "predicted_y = knn.predict(x_test)\n",
    "accuracy = accuracy_score( y_test , predicted_y , normalize = True)*float(100)\n",
    "print(\"for k= %d accuracy is %d\"%(optimal_k , accuracy))"
   ]
  },
  {
   "cell_type": "code",
   "execution_count": 25,
   "metadata": {},
   "outputs": [
    {
     "name": "stdout",
     "output_type": "stream",
     "text": [
      "1475\n",
      "21\n"
     ]
    }
   ],
   "source": [
    "print(np.count_nonzero(predicted_y ==1))\n",
    "print(np.count_nonzero(predicted_y ==0))"
   ]
  },
  {
   "cell_type": "code",
   "execution_count": 189,
   "metadata": {},
   "outputs": [
    {
     "name": "stdout",
     "output_type": "stream",
     "text": [
      "some feature names of the tfidf are ['able', 'absolute', 'absolutely', 'according', 'acid', 'across', 'actual', 'actually', 'add', 'added']\n",
      "the shape of tfidf vector is (4986, 1500)\n"
     ]
    }
   ],
   "source": [
    "#### tfidf_vectorisation\n",
    "\n",
    "tfidf  = TfidfVectorizer( min_df = 10 ,max_features = 1500)\n",
    "tfidf_model = tfidf.fit(d_f[\"Cleaned_text\"])\n",
    "print(\"some feature names of the tfidf are\" ,tfidf_model.get_feature_names()[0:10])\n",
    "\n",
    "tfidf_vector = tfidf_model.transform(d_f[\"Cleaned_text\"])\n",
    "print(\"the shape of tfidf vector is\", tfidf_vector.shape)"
   ]
  },
  {
   "cell_type": "code",
   "execution_count": 27,
   "metadata": {},
   "outputs": [],
   "source": [
    "## train , test splitting()\n",
    "\n",
    "x_train , x_test , y_train , y_test =  model_selection.train_test_split(tfidf_vector , d_f[\"Score\"] , test_size = 0.3)"
   ]
  },
  {
   "cell_type": "code",
   "execution_count": 28,
   "metadata": {},
   "outputs": [
    {
     "name": "stdout",
     "output_type": "stream",
     "text": [
      "(3490, 1500)\n",
      "(1496, 1500)\n",
      "(3490,)\n",
      "(1496,)\n"
     ]
    }
   ],
   "source": [
    "print(x_train.shape)\n",
    "print(x_test.shape)\n",
    "print(y_train.shape)\n",
    "print(y_test.shape)"
   ]
  },
  {
   "cell_type": "code",
   "execution_count": 29,
   "metadata": {},
   "outputs": [
    {
     "name": "stdout",
     "output_type": "stream",
     "text": [
      "for k = 1 accuracy is 78\n",
      "for k = 3 accuracy is 83\n",
      "for k = 5 accuracy is 83\n",
      "for k = 7 accuracy is 84\n",
      "for k = 9 accuracy is 84\n",
      "for k = 11 accuracy is 85\n",
      "for k = 13 accuracy is 85\n",
      "for k = 15 accuracy is 85\n",
      "for k = 17 accuracy is 84\n",
      "for k = 19 accuracy is 84\n",
      "for k = 21 accuracy is 84\n",
      "for k = 23 accuracy is 84\n",
      "for k = 25 accuracy is 84\n",
      "for k = 27 accuracy is 84\n",
      "for k = 29 accuracy is 84\n",
      "for k = 31 accuracy is 84\n",
      "for k = 33 accuracy is 84\n",
      "for k = 35 accuracy is 84\n",
      "for k = 37 accuracy is 84\n",
      "for k = 39 accuracy is 84\n",
      "for k = 41 accuracy is 84\n",
      "for k = 43 accuracy is 84\n",
      "for k = 45 accuracy is 84\n",
      "for k = 47 accuracy is 84\n",
      "for k = 49 accuracy is 84\n",
      "optimal_k is 11\n"
     ]
    }
   ],
   "source": [
    "#### grid search for optimal k using 10 fold cv on tfidf_vectors\n",
    "k = list(range(0,50))\n",
    "k = list(filter(lambda x : x%2 != 0,k))\n",
    "cv = []\n",
    "for i in k:\n",
    "    model = KNeighborsClassifier(n_neighbors = i, weights = \"distance\")\n",
    "    accuracy = model_selection.cross_val_score(model , x_train , y_train ,cv = 10 , scoring = \"accuracy\")*float(100)\n",
    "    print(\"for k = %d accuracy is %d\"%(i,accuracy.mean()))\n",
    "    cv.append(accuracy.mean())\n",
    "\n",
    "optimal_k = k[cv.index(max(cv))]\n",
    "print(\"optimal_k is %d\" %optimal_k)"
   ]
  },
  {
   "cell_type": "code",
   "execution_count": 30,
   "metadata": {},
   "outputs": [
    {
     "name": "stdout",
     "output_type": "stream",
     "text": [
      "for k= 11 accuracy is 84\n"
     ]
    }
   ],
   "source": [
    "### accuracy score on unseen test data at k=11\n",
    "knn = KNeighborsClassifier(n_neighbors = optimal_k , weights = \"distance\")\n",
    "knn.fit(x_train , y_train)\n",
    "predicted_y = knn.predict(x_test)\n",
    "accuracy = accuracy_score( y_test , predicted_y , normalize = True)*float(100)\n",
    "print(\"for k= %d accuracy is %d\"%(optimal_k , accuracy))"
   ]
  },
  {
   "cell_type": "code",
   "execution_count": 31,
   "metadata": {},
   "outputs": [
    {
     "name": "stdout",
     "output_type": "stream",
     "text": [
      "1459\n",
      "37\n"
     ]
    }
   ],
   "source": [
    "print(np.count_nonzero(predicted_y ==1))\n",
    "print(np.count_nonzero(predicted_y ==0))"
   ]
  },
  {
   "cell_type": "code",
   "execution_count": 32,
   "metadata": {},
   "outputs": [
    {
     "name": "stderr",
     "output_type": "stream",
     "text": [
      "100%|███████████████████████████████████████████████████████████████████████████| 4986/4986 [00:00<00:00, 47467.17it/s]\n"
     ]
    },
    {
     "name": "stdout",
     "output_type": "stream",
     "text": [
      "<class 'list'>\n",
      "3989\n"
     ]
    }
   ],
   "source": [
    "#### Word2vec\n",
    "\n",
    "i=0\n",
    "list_of_sentence = []\n",
    "for sentence in tqdm(d_f[\"Cleaned_text\"]):\n",
    "    list_of_sentence.append(sentence.split())\n",
    "w2v = Word2Vec(list_of_sentence , size= 50 , min_count = 5)\n",
    "w2v_words = list(w2v.wv.vocab)\n",
    "print(type(w2v_words))\n",
    "print(len(w2v_words))"
   ]
  },
  {
   "cell_type": "code",
   "execution_count": 33,
   "metadata": {},
   "outputs": [],
   "source": [
    "## average_w2v\n",
    "\n",
    "total_vector = []\n",
    "for sentance in list_of_sentence:\n",
    "    sen_vector = np.zeros(50)\n",
    "    count = 0\n",
    "    for word in sentance:\n",
    "        if word in w2v_words:\n",
    "            count = count + 1\n",
    "            sen_vector += w2v.wv[word]\n",
    "        if count != 0:\n",
    "            sen_vector = sen_vector/count\n",
    "    total_vector.append(sen_vector)"
   ]
  },
  {
   "cell_type": "code",
   "execution_count": 34,
   "metadata": {},
   "outputs": [
    {
     "name": "stdout",
     "output_type": "stream",
     "text": [
      "4986\n",
      "50\n"
     ]
    }
   ],
   "source": [
    "print(len(total_vector))\n",
    "print(len(total_vector[0]))"
   ]
  },
  {
   "cell_type": "code",
   "execution_count": 35,
   "metadata": {},
   "outputs": [],
   "source": [
    "average_w2v = np.asarray(total_vector)"
   ]
  },
  {
   "cell_type": "code",
   "execution_count": 36,
   "metadata": {},
   "outputs": [],
   "source": [
    "x_train , x_test , y_train , y_test =  model_selection.train_test_split(average_w2v , d_f[\"Score\"] , test_size = 0.3)"
   ]
  },
  {
   "cell_type": "code",
   "execution_count": 37,
   "metadata": {},
   "outputs": [
    {
     "name": "stdout",
     "output_type": "stream",
     "text": [
      "(3490, 50)\n",
      "(1496, 50)\n",
      "(3490,)\n",
      "(1496,)\n"
     ]
    }
   ],
   "source": [
    "print(x_train.shape)\n",
    "print(x_test.shape)\n",
    "print(y_train.shape)\n",
    "print(y_test.shape)"
   ]
  },
  {
   "cell_type": "code",
   "execution_count": 38,
   "metadata": {},
   "outputs": [
    {
     "name": "stderr",
     "output_type": "stream",
     "text": [
      "  4%|███▎                                                                               | 1/25 [00:01<00:43,  1.81s/it]"
     ]
    },
    {
     "name": "stdout",
     "output_type": "stream",
     "text": [
      "for k = 1 accuracy is 75\n"
     ]
    },
    {
     "name": "stderr",
     "output_type": "stream",
     "text": [
      "\r",
      "  8%|██████▋                                                                            | 2/25 [00:03<00:42,  1.87s/it]"
     ]
    },
    {
     "name": "stdout",
     "output_type": "stream",
     "text": [
      "for k = 3 accuracy is 78\n"
     ]
    },
    {
     "name": "stderr",
     "output_type": "stream",
     "text": [
      "\r",
      " 12%|█████████▉                                                                         | 3/25 [00:05<00:43,  1.96s/it]"
     ]
    },
    {
     "name": "stdout",
     "output_type": "stream",
     "text": [
      "for k = 5 accuracy is 80\n"
     ]
    },
    {
     "name": "stderr",
     "output_type": "stream",
     "text": [
      "\r",
      " 16%|█████████████▎                                                                     | 4/25 [00:08<00:44,  2.10s/it]"
     ]
    },
    {
     "name": "stdout",
     "output_type": "stream",
     "text": [
      "for k = 7 accuracy is 80\n"
     ]
    },
    {
     "name": "stderr",
     "output_type": "stream",
     "text": [
      "\r",
      " 20%|████████████████▌                                                                  | 5/25 [00:10<00:43,  2.16s/it]"
     ]
    },
    {
     "name": "stdout",
     "output_type": "stream",
     "text": [
      "for k = 9 accuracy is 81\n"
     ]
    },
    {
     "name": "stderr",
     "output_type": "stream",
     "text": [
      "\r",
      " 24%|███████████████████▉                                                               | 6/25 [00:13<00:42,  2.26s/it]"
     ]
    },
    {
     "name": "stdout",
     "output_type": "stream",
     "text": [
      "for k = 11 accuracy is 81\n"
     ]
    },
    {
     "name": "stderr",
     "output_type": "stream",
     "text": [
      "\r",
      " 28%|███████████████████████▏                                                           | 7/25 [00:15<00:42,  2.33s/it]"
     ]
    },
    {
     "name": "stdout",
     "output_type": "stream",
     "text": [
      "for k = 13 accuracy is 82\n"
     ]
    },
    {
     "name": "stderr",
     "output_type": "stream",
     "text": [
      "\r",
      " 32%|██████████████████████████▌                                                        | 8/25 [00:18<00:40,  2.37s/it]"
     ]
    },
    {
     "name": "stdout",
     "output_type": "stream",
     "text": [
      "for k = 15 accuracy is 82\n"
     ]
    },
    {
     "name": "stderr",
     "output_type": "stream",
     "text": [
      "\r",
      " 36%|█████████████████████████████▉                                                     | 9/25 [00:20<00:39,  2.48s/it]"
     ]
    },
    {
     "name": "stdout",
     "output_type": "stream",
     "text": [
      "for k = 17 accuracy is 82\n"
     ]
    },
    {
     "name": "stderr",
     "output_type": "stream",
     "text": [
      "\r",
      " 40%|████████████████████████████████▊                                                 | 10/25 [00:23<00:37,  2.49s/it]"
     ]
    },
    {
     "name": "stdout",
     "output_type": "stream",
     "text": [
      "for k = 19 accuracy is 82\n"
     ]
    },
    {
     "name": "stderr",
     "output_type": "stream",
     "text": [
      "\r",
      " 44%|████████████████████████████████████                                              | 11/25 [00:26<00:35,  2.52s/it]"
     ]
    },
    {
     "name": "stdout",
     "output_type": "stream",
     "text": [
      "for k = 21 accuracy is 82\n"
     ]
    },
    {
     "name": "stderr",
     "output_type": "stream",
     "text": [
      "\r",
      " 48%|███████████████████████████████████████▎                                          | 12/25 [00:28<00:33,  2.58s/it]"
     ]
    },
    {
     "name": "stdout",
     "output_type": "stream",
     "text": [
      "for k = 23 accuracy is 83\n"
     ]
    },
    {
     "name": "stderr",
     "output_type": "stream",
     "text": [
      "\r",
      " 52%|██████████████████████████████████████████▋                                       | 13/25 [00:31<00:30,  2.58s/it]"
     ]
    },
    {
     "name": "stdout",
     "output_type": "stream",
     "text": [
      "for k = 25 accuracy is 83\n"
     ]
    },
    {
     "name": "stderr",
     "output_type": "stream",
     "text": [
      "\r",
      " 56%|█████████████████████████████████████████████▉                                    | 14/25 [00:34<00:29,  2.66s/it]"
     ]
    },
    {
     "name": "stdout",
     "output_type": "stream",
     "text": [
      "for k = 27 accuracy is 83\n"
     ]
    },
    {
     "name": "stderr",
     "output_type": "stream",
     "text": [
      "\r",
      " 60%|█████████████████████████████████████████████████▏                                | 15/25 [00:36<00:26,  2.66s/it]"
     ]
    },
    {
     "name": "stdout",
     "output_type": "stream",
     "text": [
      "for k = 29 accuracy is 83\n"
     ]
    },
    {
     "name": "stderr",
     "output_type": "stream",
     "text": [
      "\r",
      " 64%|████████████████████████████████████████████████████▍                             | 16/25 [00:39<00:24,  2.70s/it]"
     ]
    },
    {
     "name": "stdout",
     "output_type": "stream",
     "text": [
      "for k = 31 accuracy is 83\n"
     ]
    },
    {
     "name": "stderr",
     "output_type": "stream",
     "text": [
      "\r",
      " 68%|███████████████████████████████████████████████████████▊                          | 17/25 [00:42<00:21,  2.72s/it]"
     ]
    },
    {
     "name": "stdout",
     "output_type": "stream",
     "text": [
      "for k = 33 accuracy is 83\n"
     ]
    },
    {
     "name": "stderr",
     "output_type": "stream",
     "text": [
      "\r",
      " 72%|███████████████████████████████████████████████████████████                       | 18/25 [00:45<00:19,  2.72s/it]"
     ]
    },
    {
     "name": "stdout",
     "output_type": "stream",
     "text": [
      "for k = 35 accuracy is 83\n"
     ]
    },
    {
     "name": "stderr",
     "output_type": "stream",
     "text": [
      "\r",
      " 76%|██████████████████████████████████████████████████████████████▎                   | 19/25 [00:48<00:16,  2.78s/it]"
     ]
    },
    {
     "name": "stdout",
     "output_type": "stream",
     "text": [
      "for k = 37 accuracy is 83\n"
     ]
    },
    {
     "name": "stderr",
     "output_type": "stream",
     "text": [
      "\r",
      " 80%|█████████████████████████████████████████████████████████████████▌                | 20/25 [00:50<00:13,  2.76s/it]"
     ]
    },
    {
     "name": "stdout",
     "output_type": "stream",
     "text": [
      "for k = 39 accuracy is 83\n"
     ]
    },
    {
     "name": "stderr",
     "output_type": "stream",
     "text": [
      "\r",
      " 84%|████████████████████████████████████████████████████████████████████▉             | 21/25 [00:53<00:11,  2.82s/it]"
     ]
    },
    {
     "name": "stdout",
     "output_type": "stream",
     "text": [
      "for k = 41 accuracy is 83\n"
     ]
    },
    {
     "name": "stderr",
     "output_type": "stream",
     "text": [
      "\r",
      " 88%|████████████████████████████████████████████████████████████████████████▏         | 22/25 [00:56<00:08,  2.80s/it]"
     ]
    },
    {
     "name": "stdout",
     "output_type": "stream",
     "text": [
      "for k = 43 accuracy is 83\n"
     ]
    },
    {
     "name": "stderr",
     "output_type": "stream",
     "text": [
      "\r",
      " 92%|███████████████████████████████████████████████████████████████████████████▍      | 23/25 [00:59<00:05,  2.85s/it]"
     ]
    },
    {
     "name": "stdout",
     "output_type": "stream",
     "text": [
      "for k = 45 accuracy is 83\n"
     ]
    },
    {
     "name": "stderr",
     "output_type": "stream",
     "text": [
      "\r",
      " 96%|██████████████████████████████████████████████████████████████████████████████▋   | 24/25 [01:02<00:02,  2.84s/it]"
     ]
    },
    {
     "name": "stdout",
     "output_type": "stream",
     "text": [
      "for k = 47 accuracy is 83\n"
     ]
    },
    {
     "name": "stderr",
     "output_type": "stream",
     "text": [
      "100%|██████████████████████████████████████████████████████████████████████████████████| 25/25 [01:05<00:00,  2.60s/it]"
     ]
    },
    {
     "name": "stdout",
     "output_type": "stream",
     "text": [
      "for k = 49 accuracy is 83\n",
      "optimal_k is 41\n"
     ]
    },
    {
     "name": "stderr",
     "output_type": "stream",
     "text": [
      "\n"
     ]
    }
   ],
   "source": [
    "#### grid search for optimal k using 10 fold cv on aerage_w2v\n",
    "k = list(range(0,50))\n",
    "k = list(filter(lambda x : x%2 != 0,k))\n",
    "cv = []\n",
    "for i in tqdm(k):\n",
    "    model = KNeighborsClassifier(n_neighbors = i, weights = \"distance\")\n",
    "    accuracy = model_selection.cross_val_score(model , x_train , y_train ,cv = 10 , scoring = \"accuracy\")*float(100)\n",
    "    print(\"for k = %d accuracy is %d\"%(i,accuracy.mean()))\n",
    "    cv.append(accuracy.mean())\n",
    "\n",
    "optimal_k = k[cv.index(max(cv))]\n",
    "print(\"optimal_k is %d\" %optimal_k)"
   ]
  },
  {
   "cell_type": "code",
   "execution_count": 39,
   "metadata": {},
   "outputs": [
    {
     "name": "stdout",
     "output_type": "stream",
     "text": [
      "for k= 41 accuracy is 83\n"
     ]
    }
   ],
   "source": [
    "### accuracy score on unseen test data at k=optimal_k\n",
    "knn = KNeighborsClassifier(n_neighbors = optimal_k , weights = \"distance\")\n",
    "knn.fit(x_train , y_train)\n",
    "predicted_y = knn.predict(x_test)\n",
    "accuracy = accuracy_score( y_test , predicted_y , normalize = True)*float(100)\n",
    "print(\"for k= %d accuracy is %d\"%(optimal_k , accuracy))"
   ]
  },
  {
   "cell_type": "code",
   "execution_count": 40,
   "metadata": {},
   "outputs": [
    {
     "name": "stdout",
     "output_type": "stream",
     "text": [
      "1488\n",
      "8\n"
     ]
    }
   ],
   "source": [
    "print(np.count_nonzero(predicted_y ==1))\n",
    "print(np.count_nonzero(predicted_y ==0))"
   ]
  },
  {
   "cell_type": "code",
   "execution_count": 41,
   "metadata": {
    "scrolled": true
   },
   "outputs": [
    {
     "name": "stderr",
     "output_type": "stream",
     "text": [
      "100%|██████████████████████████████████████████████████████████████████████████████| 4986/4986 [03:52<00:00, 21.42it/s]\n"
     ]
    }
   ],
   "source": [
    "#### tfidf_weighted_vector\n",
    "model = TfidfVectorizer()\n",
    "model.fit(d_f[\"Cleaned_text\"])\n",
    "#### now we are zipping words with their idf_ value pay attention it is not tfidf value\n",
    "dictionary = dict(zip(model.get_feature_names(),list(model.idf_)))\n",
    "tfidf_weighted_w2v = []\n",
    "tfidf_feat = model.get_feature_names()\n",
    "for sent in tqdm(list_of_sentence):\n",
    "    sentance_vector = np.zeros(50)\n",
    "    tfidf_sum = 0\n",
    "    for word in sent:\n",
    "        if word in w2v_words and word in tfidf_feat:\n",
    "            tfidf = dictionary[word]*(sent.count(word)/len(sent))\n",
    "            sentance_vector += (w2v.wv[word]*tfidf)\n",
    "            tfidf_sum += tfidf\n",
    "        if tfidf_sum != 0:\n",
    "            sentance_vector /= tfidf_sum\n",
    "    tfidf_weighted_w2v.append(sentance_vector)\n",
    "            "
   ]
  },
  {
   "cell_type": "code",
   "execution_count": 42,
   "metadata": {},
   "outputs": [
    {
     "name": "stdout",
     "output_type": "stream",
     "text": [
      "4986\n",
      "50\n",
      "<class 'list'>\n"
     ]
    }
   ],
   "source": [
    "print(len(tfidf_weighted_w2v))\n",
    "print(len(tfidf_weighted_w2v[0]))\n",
    "print(type(tfidf_weighted_w2v))"
   ]
  },
  {
   "cell_type": "code",
   "execution_count": 43,
   "metadata": {},
   "outputs": [],
   "source": [
    "average_w2v = np.asarray(tfidf_weighted_w2v)"
   ]
  },
  {
   "cell_type": "code",
   "execution_count": 44,
   "metadata": {},
   "outputs": [
    {
     "name": "stdout",
     "output_type": "stream",
     "text": [
      "(3490, 50)\n",
      "(1496, 50)\n",
      "(3490,)\n",
      "(1496,)\n"
     ]
    }
   ],
   "source": [
    "x_train , x_test , y_train , y_test =  model_selection.train_test_split(average_w2v , d_f[\"Score\"] , test_size = 0.3)\n",
    "print(x_train.shape)\n",
    "print(x_test.shape)\n",
    "print(y_train.shape)\n",
    "print(y_test.shape)"
   ]
  },
  {
   "cell_type": "code",
   "execution_count": 45,
   "metadata": {},
   "outputs": [
    {
     "name": "stdout",
     "output_type": "stream",
     "text": [
      "for k = 1 accuracy is 73\n",
      "for k = 3 accuracy is 78\n",
      "for k = 5 accuracy is 80\n",
      "for k = 7 accuracy is 81\n",
      "for k = 9 accuracy is 81\n",
      "for k = 11 accuracy is 82\n",
      "for k = 13 accuracy is 82\n",
      "for k = 15 accuracy is 82\n",
      "for k = 17 accuracy is 82\n",
      "for k = 19 accuracy is 82\n",
      "for k = 21 accuracy is 83\n",
      "for k = 23 accuracy is 83\n",
      "for k = 25 accuracy is 83\n",
      "for k = 27 accuracy is 83\n",
      "for k = 29 accuracy is 83\n",
      "for k = 31 accuracy is 83\n",
      "for k = 33 accuracy is 83\n",
      "for k = 35 accuracy is 83\n",
      "for k = 37 accuracy is 83\n",
      "for k = 39 accuracy is 83\n",
      "for k = 41 accuracy is 83\n",
      "for k = 43 accuracy is 83\n",
      "for k = 45 accuracy is 83\n",
      "for k = 47 accuracy is 83\n",
      "for k = 49 accuracy is 83\n",
      "optimal_k is 43\n"
     ]
    }
   ],
   "source": [
    "#### grid search for optimal k using 10 fold cv on aerage_w2v\n",
    "k = list(range(0,50))\n",
    "k = list(filter(lambda x : x%2 != 0,k))\n",
    "cv = []\n",
    "for i in k:\n",
    "    model = KNeighborsClassifier(n_neighbors = i, weights = \"distance\")\n",
    "    accuracy = model_selection.cross_val_score(model , x_train , y_train ,cv = 10 , scoring = \"accuracy\")*float(100)\n",
    "    print(\"for k = %d accuracy is %d\"%(i,accuracy.mean()))\n",
    "    cv.append(accuracy.mean())\n",
    "\n",
    "optimal_k = k[cv.index(max(cv))]\n",
    "print(\"optimal_k is %d\" %optimal_k)"
   ]
  },
  {
   "cell_type": "code",
   "execution_count": 46,
   "metadata": {},
   "outputs": [
    {
     "name": "stdout",
     "output_type": "stream",
     "text": [
      "for k= 43 accuracy is 85\n"
     ]
    }
   ],
   "source": [
    "### accuracy score on unseen test data at k=optimal_k\n",
    "knn = KNeighborsClassifier(n_neighbors = optimal_k , weights = \"distance\")\n",
    "knn.fit(x_train , y_train)\n",
    "predicted_y = knn.predict(x_test)\n",
    "accuracy = accuracy_score( y_test , predicted_y , normalize = True)*float(100)\n",
    "print(\"for k= %d accuracy is %d\"%(optimal_k , accuracy))"
   ]
  },
  {
   "cell_type": "code",
   "execution_count": 47,
   "metadata": {},
   "outputs": [],
   "source": [
    "###### implementation of kd tree version of knn"
   ]
  },
  {
   "cell_type": "code",
   "execution_count": 68,
   "metadata": {},
   "outputs": [],
   "source": [
    "bow_vectors = np.asarray(BOW_1500d)"
   ]
  },
  {
   "cell_type": "code",
   "execution_count": 49,
   "metadata": {},
   "outputs": [],
   "source": [
    "##predicted_values = []\n",
    "##tree = KDTree(bow_vectors , leaf_size = 20)\n",
    "##for x in x_test:\n",
    "  ##  distance , idx= tree.query(x , k=5)\n",
    "   ## positive = np.count_nonzeros(d_f[\"Score\"][idx]==1)\n",
    "    ##negative = np.count_nonzeros(d_f[\"Score\"][idx]==0)\n",
    "   ## if positive > negative:\n",
    "     ##   predicted_values.append(1)\n",
    "  ##  else:\n",
    "    ##    predicted_values.append(0)\n",
    "        "
   ]
  },
  {
   "cell_type": "markdown",
   "metadata": {},
   "source": [
    "#######   applying naive baise assignment 04 on amazon fine food reviews data set"
   ]
  },
  {
   "cell_type": "code",
   "execution_count": 209,
   "metadata": {},
   "outputs": [],
   "source": [
    "from sklearn.naive_bayes import BernoulliNB\n",
    "from sklearn.metrics import f1_score\n",
    "import sklearn"
   ]
  },
  {
   "cell_type": "code",
   "execution_count": 143,
   "metadata": {},
   "outputs": [],
   "source": [
    "clf_model = BernoulliNB()"
   ]
  },
  {
   "cell_type": "code",
   "execution_count": 144,
   "metadata": {},
   "outputs": [],
   "source": [
    "x = BOW_1500d\n",
    "y = d_f[\"Score\"]"
   ]
  },
  {
   "cell_type": "code",
   "execution_count": 145,
   "metadata": {},
   "outputs": [
    {
     "name": "stdout",
     "output_type": "stream",
     "text": [
      "(3490, 1500)\n",
      "(1496, 1500)\n",
      "(3490,)\n",
      "(1496,)\n"
     ]
    }
   ],
   "source": [
    "x_train , x_test , y_train , y_test = model_selection.train_test_split(x , y , test_size = 0.3)\n",
    "print(x_train.shape)\n",
    "print(x_test.shape)\n",
    "print(y_train.shape)\n",
    "print(y_test.shape)"
   ]
  },
  {
   "cell_type": "code",
   "execution_count": 146,
   "metadata": {},
   "outputs": [
    {
     "data": {
      "text/plain": [
       "BernoulliNB()"
      ]
     },
     "execution_count": 146,
     "metadata": {},
     "output_type": "execute_result"
    }
   ],
   "source": [
    "clf_model.fit(x_train,y_train)"
   ]
  },
  {
   "cell_type": "code",
   "execution_count": 147,
   "metadata": {},
   "outputs": [],
   "source": [
    "y_predicted = clf_model.predict(x_test)"
   ]
  },
  {
   "cell_type": "code",
   "execution_count": 148,
   "metadata": {},
   "outputs": [
    {
     "name": "stdout",
     "output_type": "stream",
     "text": [
      "229\n",
      "1267\n"
     ]
    }
   ],
   "source": [
    "print(np.count_nonzero(y_predicted==0))\n",
    "print(np.count_nonzero(y_predicted==1))"
   ]
  },
  {
   "cell_type": "code",
   "execution_count": 149,
   "metadata": {},
   "outputs": [
    {
     "name": "stdout",
     "output_type": "stream",
     "text": [
      "250\n",
      "1246\n"
     ]
    }
   ],
   "source": [
    "print(np.count_nonzero(y_test==0))\n",
    "print(np.count_nonzero(y_test==1))"
   ]
  },
  {
   "cell_type": "code",
   "execution_count": 150,
   "metadata": {},
   "outputs": [
    {
     "data": {
      "image/png": "[encoded data removed]",
      "text/plain": [
       "<Figure size 432x288 with 2 Axes>"
      ]
     },
     "metadata": {
      "needs_background": "light"
     },
     "output_type": "display_data"
    }
   ],
   "source": [
    "plot = plot_confusion_matrix(clf_model ,x_test ,y_test,normalize = \"true\" ,labels = (0,1))"
   ]
  },
  {
   "cell_type": "code",
   "execution_count": 151,
   "metadata": {},
   "outputs": [],
   "source": [
    "#### using different alpha"
   ]
  },
  {
   "cell_type": "code",
   "execution_count": 152,
   "metadata": {},
   "outputs": [],
   "source": [
    "clf_model = BernoulliNB(alpha = 5 , fit_prior = True)"
   ]
  },
  {
   "cell_type": "code",
   "execution_count": 153,
   "metadata": {},
   "outputs": [
    {
     "data": {
      "text/plain": [
       "BernoulliNB(alpha=5)"
      ]
     },
     "execution_count": 153,
     "metadata": {},
     "output_type": "execute_result"
    }
   ],
   "source": [
    "clf_model.fit(x_train,y_train)"
   ]
  },
  {
   "cell_type": "code",
   "execution_count": 154,
   "metadata": {},
   "outputs": [
    {
     "data": {
      "text/plain": [
       "<sklearn.metrics._plot.confusion_matrix.ConfusionMatrixDisplay at 0x2252fc198b0>"
      ]
     },
     "execution_count": 154,
     "metadata": {},
     "output_type": "execute_result"
    },
    {
     "data": {
      "image/png": "[encoded data removed]",
      "text/plain": [
       "<Figure size 432x288 with 2 Axes>"
      ]
     },
     "metadata": {
      "needs_background": "light"
     },
     "output_type": "display_data"
    }
   ],
   "source": [
    "plot_confusion_matrix(clf_model , x_test , y_test , labels = (0,1) ,normalize = 'true')"
   ]
  },
  {
   "cell_type": "code",
   "execution_count": 155,
   "metadata": {},
   "outputs": [],
   "source": [
    "## using alpha =n"
   ]
  },
  {
   "cell_type": "code",
   "execution_count": 156,
   "metadata": {},
   "outputs": [
    {
     "data": {
      "text/plain": [
       "<sklearn.metrics._plot.confusion_matrix.ConfusionMatrixDisplay at 0x2252fc19040>"
      ]
     },
     "execution_count": 156,
     "metadata": {},
     "output_type": "execute_result"
    },
    {
     "data": {
      "image/png": "[encoded data removed]",
      "text/plain": [
       "<Figure size 432x288 with 2 Axes>"
      ]
     },
     "metadata": {
      "needs_background": "light"
     },
     "output_type": "display_data"
    }
   ],
   "source": [
    "clf_model = BernoulliNB(alpha = 1486 , fit_prior = True)\n",
    "clf_model.fit(x_train,y_train)\n",
    "plot_confusion_matrix(clf_model , x_test , y_test , labels = (0,1) ,normalize = 'true')"
   ]
  },
  {
   "cell_type": "code",
   "execution_count": 157,
   "metadata": {},
   "outputs": [
    {
     "data": {
      "text/plain": [
       "<sklearn.metrics._plot.confusion_matrix.ConfusionMatrixDisplay at 0x2252c551d30>"
      ]
     },
     "execution_count": 157,
     "metadata": {},
     "output_type": "execute_result"
    },
    {
     "data": {
      "image/png": "[encoded data removed]",
      "text/plain": [
       "<Figure size 432x288 with 2 Axes>"
      ]
     },
     "metadata": {
      "needs_background": "light"
     },
     "output_type": "display_data"
    }
   ],
   "source": [
    "##### alpha = 0.5\n",
    "clf_model = BernoulliNB(alpha = 0.5 , fit_prior = True)\n",
    "clf_model.fit(x_train,y_train)\n",
    "plot_confusion_matrix(clf_model , x_test , y_test , labels = (0,1) ,normalize = 'true')"
   ]
  },
  {
   "cell_type": "code",
   "execution_count": 158,
   "metadata": {},
   "outputs": [
    {
     "data": {
      "text/plain": [
       "<sklearn.metrics._plot.confusion_matrix.ConfusionMatrixDisplay at 0x2252fc24d30>"
      ]
     },
     "execution_count": 158,
     "metadata": {},
     "output_type": "execute_result"
    },
    {
     "data": {
      "image/png": "[encoded data removed]",
      "text/plain": [
       "<Figure size 432x288 with 2 Axes>"
      ]
     },
     "metadata": {
      "needs_background": "light"
     },
     "output_type": "display_data"
    }
   ],
   "source": [
    "##### alpha = 0.001\n",
    "clf_model = BernoulliNB(alpha = 0.001 , fit_prior = True)\n",
    "clf_model.fit(x_train,y_train)\n",
    "plot_confusion_matrix(clf_model , x_test , y_test , labels = (0,1) ,normalize = 'true')"
   ]
  },
  {
   "cell_type": "code",
   "execution_count": 159,
   "metadata": {},
   "outputs": [
    {
     "name": "stdout",
     "output_type": "stream",
     "text": [
      "important features of positive class\n",
      "['good' 'great' 'like' 'love' 'one' 'taste' 'product' 'flavor' 'would'\n",
      " 'best']\n",
      "['like' 'would' 'taste' 'product' 'one' 'good' 'even' 'flavor' 'tried'\n",
      " 'much']\n"
     ]
    }
   ],
   "source": [
    "###### figuring top 10 most important features for positive as well as negatiove class\n",
    "##### feature_log_prob_ is an attribute of bernoullinb() which returns an 2d array with log probabilities of all features\n",
    "positive_class_important_feat = clf_model.feature_log_prob_[1,:].argsort()[::-1]\n",
    "negative_class_important_feat = clf_model.feature_log_prob_[0,:].argsort()[::-1]\n",
    "\n",
    "### printing most important features\n",
    "\n",
    "print(\"important features of positive class\")\n",
    "print(np.take(model.get_feature_names(),positive_class_important_feat[:10]))\n",
    "print(np.take(model.get_feature_names(),negative_class_important_feat[:10]))"
   ]
  },
  {
   "cell_type": "code",
   "execution_count": 176,
   "metadata": {},
   "outputs": [],
   "source": [
    "x = bi_gram_1500d\n",
    "y = d_f[\"Score\"]\n",
    "x_train , x_test , y_train , y_test = model_selection.train_test_split(x , y , test_size = 0.3)"
   ]
  },
  {
   "cell_type": "code",
   "execution_count": 177,
   "metadata": {},
   "outputs": [
    {
     "data": {
      "text/plain": [
       "<sklearn.metrics._plot.confusion_matrix.ConfusionMatrixDisplay at 0x225303521f0>"
      ]
     },
     "execution_count": 177,
     "metadata": {},
     "output_type": "execute_result"
    },
    {
     "data": {
      "image/png": "[encoded data removed]",
      "text/plain": [
       "<Figure size 432x288 with 2 Axes>"
      ]
     },
     "metadata": {
      "needs_background": "light"
     },
     "output_type": "display_data"
    }
   ],
   "source": [
    "#### bigram_1500d\n",
    "\n",
    "clf_model = BernoulliNB(fit_prior = True)\n",
    "clf_model.fit(x_train , y_train)\n",
    "plot_confusion_matrix(clf_model , x_test , y_test , labels = (0,1),normalize = 'true')"
   ]
  },
  {
   "cell_type": "code",
   "execution_count": 178,
   "metadata": {},
   "outputs": [
    {
     "name": "stdout",
     "output_type": "stream",
     "text": [
      "important features of positive class\n",
      "['not' 'good' 'great' 'like' 'love' 'taste' 'one' 'product' 'flavor'\n",
      " 'would']\n",
      "['not' 'like' 'would' 'taste' 'product' 'one' 'good' 'flavor' 'even' 'buy']\n"
     ]
    }
   ],
   "source": [
    "###### figuring top 10 most important features for positive as well as negatiove class\n",
    "##### feature_log_prob_ is an attribute of bernoullinb() which returns an 2d array with log probabilities of all features\n",
    "positive_class_important_feat = clf_model.feature_log_prob_[1,:].argsort()[::-1]\n",
    "negative_class_important_feat = clf_model.feature_log_prob_[0,:].argsort()[::-1]\n",
    "\n",
    "### printing most important features\n",
    "\n",
    "print(\"important features of positive class\")\n",
    "print(np.take(model.get_feature_names(),positive_class_important_feat[:10]))\n",
    "print(np.take(model.get_feature_names(),negative_class_important_feat[:10]))"
   ]
  },
  {
   "cell_type": "code",
   "execution_count": 190,
   "metadata": {},
   "outputs": [
    {
     "name": "stdout",
     "output_type": "stream",
     "text": [
      "(3490, 1500)\n",
      "(1496, 1500)\n",
      "(3490,)\n",
      "(1496,)\n"
     ]
    }
   ],
   "source": [
    "####### naive bayes on tfidf\n",
    "\n",
    "x = tfidf_vector\n",
    "y = d_f[\"Score\"]\n",
    "x_train , _test , y_train ,y_test = model_selection.train_test_split(x ,y , test_size = 0.3)\n",
    "print(x_train.shape)\n",
    "print(x_test.shape)\n",
    "print(y_train.shape)\n",
    "print(y_test.shape)"
   ]
  },
  {
   "cell_type": "code",
   "execution_count": 191,
   "metadata": {},
   "outputs": [
    {
     "data": {
      "text/plain": [
       "BernoulliNB(alpha=1)"
      ]
     },
     "execution_count": 191,
     "metadata": {},
     "output_type": "execute_result"
    }
   ],
   "source": [
    "clf = BernoulliNB(fit_prior = True , alpha =1)\n",
    "clf.fit(x_train , y_train)\n"
   ]
  },
  {
   "cell_type": "code",
   "execution_count": 193,
   "metadata": {},
   "outputs": [
    {
     "data": {
      "text/plain": [
       "<sklearn.metrics._plot.confusion_matrix.ConfusionMatrixDisplay at 0x22530c884c0>"
      ]
     },
     "execution_count": 193,
     "metadata": {},
     "output_type": "execute_result"
    },
    {
     "data": {
      "image/png": "[encoded data removed]",
      "text/plain": [
       "<Figure size 432x288 with 2 Axes>"
      ]
     },
     "metadata": {
      "needs_background": "light"
     },
     "output_type": "display_data"
    }
   ],
   "source": [
    "plot_confusion_matrix(clf_model , x_test , y_test , labels = (0,1),normalize = 'true')"
   ]
  },
  {
   "cell_type": "code",
   "execution_count": 194,
   "metadata": {},
   "outputs": [
    {
     "name": "stdout",
     "output_type": "stream",
     "text": [
      "important features of positive class\n",
      "['not disappointed' 'grocery stores' 'great not' 'lime' 'loved'\n",
      " 'tastes good' 'not work' 'potatoes' 'free' 'would never']\n",
      "['not disappointed' 'lime' 'would never' 'tastes good' 'potatoes'\n",
      " 'not work' 'great not' 'fair' 'free' 'candy']\n"
     ]
    }
   ],
   "source": [
    "###### figuring top 10 most important features for positive as well as negatiove class\n",
    "##### feature_log_prob_ is an attribute of bernoullinb() which returns an 2d array with log probabilities of all features\n",
    "positive_class_important_feat = clf.feature_log_prob_[1,:].argsort()[::-1]\n",
    "negative_class_important_feat = clf.feature_log_prob_[0,:].argsort()[::-1]\n",
    "\n",
    "### printing most important features\n",
    "\n",
    "print(\"important features of positive class\")\n",
    "print(np.take(model.get_feature_names(),positive_class_important_feat[:10]))\n",
    "print(np.take(model.get_feature_names(),negative_class_important_feat[:10]))"
   ]
  },
  {
   "cell_type": "code",
   "execution_count": 204,
   "metadata": {},
   "outputs": [
    {
     "name": "stdout",
     "output_type": "stream",
     "text": [
      "for alpha = 139 accuracy is 82\n",
      "for alpha = 601 accuracy is 82\n",
      "for alpha = 251 accuracy is 82\n",
      "for alpha = 638 accuracy is 82\n",
      "for alpha = 137 accuracy is 82\n",
      "for alpha = 500 accuracy is 82\n",
      "for alpha = 449 accuracy is 82\n",
      "for alpha = 483 accuracy is 82\n",
      "for alpha = 288 accuracy is 82\n",
      "for alpha = 227 accuracy is 82\n",
      "for alpha = 22 accuracy is 81\n",
      "for alpha = 468 accuracy is 82\n",
      "for alpha = 10 accuracy is 80\n",
      "for alpha = 194 accuracy is 82\n",
      "for alpha = 354 accuracy is 82\n",
      "for alpha = 482 accuracy is 82\n",
      "for alpha = 547 accuracy is 82\n",
      "for alpha = 461 accuracy is 82\n",
      "for alpha = 530 accuracy is 82\n",
      "for alpha = 166 accuracy is 82\n",
      "for alpha = 383 accuracy is 82\n",
      "for alpha = 394 accuracy is 82\n",
      "for alpha = 9 accuracy is 80\n",
      "for alpha = 107 accuracy is 82\n",
      "for alpha = 14 accuracy is 81\n",
      "for alpha = 114 accuracy is 82\n",
      "for alpha = 563 accuracy is 82\n",
      "for alpha = 370 accuracy is 82\n",
      "for alpha = 335 accuracy is 82\n",
      "for alpha = 102 accuracy is 82\n",
      "optimal_alpha is 21\n"
     ]
    }
   ],
   "source": [
    "#### random search for optimal alpha using 10 fold cv on tfidf\n",
    "x = random.sample(range(1,700),30)\n",
    "cv = []\n",
    "for i in x:\n",
    "    clf_model = BernoulliNB(fit_prior = True ,alpha = i)\n",
    "    accuracy = model_selection.cross_val_score(clf_model , x_train , y_train ,cv = 10 , scoring = \"accuracy\")*float(100)\n",
    "    print(\"for alpha = %d accuracy is %d\"%(i,accuracy.mean()))\n",
    "    cv.append(accuracy.mean())\n",
    "\n",
    "optimal_alpha = k[cv.index(max(cv))]\n",
    "print(\"optimal_alpha is %d\" %optimal_k)"
   ]
  },
  {
   "cell_type": "code",
   "execution_count": 228,
   "metadata": {},
   "outputs": [
    {
     "name": "stdout",
     "output_type": "stream",
     "text": [
      "for alpha = 681 accuracy is 0.923741\n",
      "for alpha = 244 accuracy is 0.923741\n",
      "for alpha = 426 accuracy is 0.923741\n",
      "for alpha = 365 accuracy is 0.923741\n",
      "for alpha = 299 accuracy is 0.923741\n",
      "for alpha = 613 accuracy is 0.923741\n",
      "for alpha = 545 accuracy is 0.923741\n",
      "for alpha = 138 accuracy is 0.922966\n",
      "for alpha = 652 accuracy is 0.923741\n",
      "for alpha = 121 accuracy is 0.922966\n",
      "for alpha = 470 accuracy is 0.923741\n",
      "for alpha = 256 accuracy is 0.923741\n",
      "for alpha = 271 accuracy is 0.923741\n",
      "for alpha = 670 accuracy is 0.923741\n",
      "for alpha = 283 accuracy is 0.923741\n",
      "for alpha = 42 accuracy is 0.912281\n",
      "for alpha = 594 accuracy is 0.923741\n",
      "for alpha = 324 accuracy is 0.923741\n",
      "for alpha = 161 accuracy is 0.922966\n",
      "for alpha = 419 accuracy is 0.923741\n",
      "for alpha = 267 accuracy is 0.923741\n",
      "for alpha = 599 accuracy is 0.923741\n",
      "for alpha = 449 accuracy is 0.923741\n",
      "for alpha = 521 accuracy is 0.923741\n",
      "for alpha = 591 accuracy is 0.923741\n",
      "for alpha = 127 accuracy is 0.922966\n",
      "for alpha = 636 accuracy is 0.923741\n",
      "for alpha = 33 accuracy is 0.907414\n",
      "for alpha = 287 accuracy is 0.923741\n",
      "for alpha = 159 accuracy is 0.922966\n"
     ]
    }
   ],
   "source": [
    "#### f1_score\n",
    "optimal_score = 0*float()\n",
    "optimum_alpha = 0\n",
    "x = random.sample(range(1,700),30)\n",
    "cv = []\n",
    "for i in x:\n",
    "    clf_model = BernoulliNB(fit_prior = True ,alpha = i)\n",
    "    clf_model.fit(x_train , y_train)\n",
    "    predicted_y = clf_model.predict(x_test)\n",
    "    score = f1_score(y_test , predicted_y)\n",
    "    print(\"for alpha = %d accuracy is %f\"%(i,score))\n",
    "    if(optimal_score<=score):\n",
    "        optimum_score = score\n",
    "        optimum_alpha = i"
   ]
  },
  {
   "cell_type": "code",
   "execution_count": 229,
   "metadata": {},
   "outputs": [
    {
     "name": "stdout",
     "output_type": "stream",
     "text": [
      "47\n",
      "[681, 244, 426, 365, 299, 613, 545, 138, 652, 121, 470, 256, 271, 670, 283, 42, 594, 324, 161, 419, 267, 599, 449, 521, 591, 127, 636, 33, 287, 159]\n"
     ]
    }
   ],
   "source": [
    "print(optimal_alpha)\n",
    "print(x)"
   ]
  },
  {
   "cell_type": "code",
   "execution_count": 240,
   "metadata": {},
   "outputs": [
    {
     "ename": "KeyError",
     "evalue": "0",
     "output_type": "error",
     "traceback": [
      "\u001b[1;31m---------------------------------------------------------------------------\u001b[0m",
      "\u001b[1;31mKeyError\u001b[0m                                  Traceback (most recent call last)",
      "\u001b[1;32m~\\anaconda3\\lib\\site-packages\\pandas\\core\\indexes\\base.py\u001b[0m in \u001b[0;36mget_loc\u001b[1;34m(self, key, method, tolerance)\u001b[0m\n\u001b[0;32m   2894\u001b[0m             \u001b[1;32mtry\u001b[0m\u001b[1;33m:\u001b[0m\u001b[1;33m\u001b[0m\u001b[1;33m\u001b[0m\u001b[0m\n\u001b[1;32m-> 2895\u001b[1;33m                 \u001b[1;32mreturn\u001b[0m \u001b[0mself\u001b[0m\u001b[1;33m.\u001b[0m\u001b[0m_engine\u001b[0m\u001b[1;33m.\u001b[0m\u001b[0mget_loc\u001b[0m\u001b[1;33m(\u001b[0m\u001b[0mcasted_key\u001b[0m\u001b[1;33m)\u001b[0m\u001b[1;33m\u001b[0m\u001b[1;33m\u001b[0m\u001b[0m\n\u001b[0m\u001b[0;32m   2896\u001b[0m             \u001b[1;32mexcept\u001b[0m \u001b[0mKeyError\u001b[0m \u001b[1;32mas\u001b[0m \u001b[0merr\u001b[0m\u001b[1;33m:\u001b[0m\u001b[1;33m\u001b[0m\u001b[1;33m\u001b[0m\u001b[0m\n",
      "\u001b[1;32mpandas\\_libs\\index.pyx\u001b[0m in \u001b[0;36mpandas._libs.index.IndexEngine.get_loc\u001b[1;34m()\u001b[0m\n",
      "\u001b[1;32mpandas\\_libs\\index.pyx\u001b[0m in \u001b[0;36mpandas._libs.index.IndexEngine.get_loc\u001b[1;34m()\u001b[0m\n",
      "\u001b[1;32mpandas\\_libs\\hashtable_class_helper.pxi\u001b[0m in \u001b[0;36mpandas._libs.hashtable.Int64HashTable.get_item\u001b[1;34m()\u001b[0m\n",
      "\u001b[1;32mpandas\\_libs\\hashtable_class_helper.pxi\u001b[0m in \u001b[0;36mpandas._libs.hashtable.Int64HashTable.get_item\u001b[1;34m()\u001b[0m\n",
      "\u001b[1;31mKeyError\u001b[0m: 0",
      "\nThe above exception was the direct cause of the following exception:\n",
      "\u001b[1;31mKeyError\u001b[0m                                  Traceback (most recent call last)",
      "\u001b[1;32m<ipython-input-240-abc0063820c4>\u001b[0m in \u001b[0;36m<module>\u001b[1;34m\u001b[0m\n\u001b[0;32m      1\u001b[0m \u001b[0mno_of_test_data\u001b[0m \u001b[1;33m=\u001b[0m\u001b[0mlen\u001b[0m\u001b[1;33m(\u001b[0m\u001b[0my_test\u001b[0m\u001b[1;33m)\u001b[0m\u001b[1;33m\u001b[0m\u001b[1;33m\u001b[0m\u001b[0m\n\u001b[0;32m      2\u001b[0m \u001b[1;32mfor\u001b[0m \u001b[0mi\u001b[0m \u001b[1;32min\u001b[0m \u001b[0mrange\u001b[0m\u001b[1;33m(\u001b[0m\u001b[0mno_of_test_data\u001b[0m\u001b[1;33m)\u001b[0m\u001b[1;33m:\u001b[0m\u001b[1;33m\u001b[0m\u001b[1;33m\u001b[0m\u001b[0m\n\u001b[1;32m----> 3\u001b[1;33m     \u001b[0mfpr\u001b[0m \u001b[1;33m,\u001b[0m \u001b[0mtpr\u001b[0m \u001b[1;33m=\u001b[0m \u001b[0mroc_curve\u001b[0m\u001b[1;33m(\u001b[0m\u001b[0my_test\u001b[0m\u001b[1;33m[\u001b[0m\u001b[1;36m0\u001b[0m\u001b[1;33m]\u001b[0m\u001b[1;33m,\u001b[0m \u001b[0mpredicted_y\u001b[0m\u001b[1;33m[\u001b[0m\u001b[1;36m1\u001b[0m\u001b[1;33m]\u001b[0m\u001b[1;33m)\u001b[0m\u001b[1;33m\u001b[0m\u001b[1;33m\u001b[0m\u001b[0m\n\u001b[0m\u001b[0;32m      4\u001b[0m     \u001b[0mroc_auc\u001b[0m\u001b[1;33m[\u001b[0m\u001b[0mi\u001b[0m\u001b[1;33m]\u001b[0m \u001b[1;33m=\u001b[0m \u001b[0mauc\u001b[0m\u001b[1;33m(\u001b[0m\u001b[0mfpr\u001b[0m\u001b[1;33m[\u001b[0m\u001b[0mi\u001b[0m\u001b[1;33m]\u001b[0m\u001b[1;33m,\u001b[0m\u001b[0mtpr\u001b[0m\u001b[1;33m[\u001b[0m\u001b[0mi\u001b[0m\u001b[1;33m]\u001b[0m\u001b[1;33m)\u001b[0m\u001b[1;33m\u001b[0m\u001b[1;33m\u001b[0m\u001b[0m\n",
      "\u001b[1;32m~\\anaconda3\\lib\\site-packages\\pandas\\core\\series.py\u001b[0m in \u001b[0;36m__getitem__\u001b[1;34m(self, key)\u001b[0m\n\u001b[0;32m    880\u001b[0m \u001b[1;33m\u001b[0m\u001b[0m\n\u001b[0;32m    881\u001b[0m         \u001b[1;32melif\u001b[0m \u001b[0mkey_is_scalar\u001b[0m\u001b[1;33m:\u001b[0m\u001b[1;33m\u001b[0m\u001b[1;33m\u001b[0m\u001b[0m\n\u001b[1;32m--> 882\u001b[1;33m             \u001b[1;32mreturn\u001b[0m \u001b[0mself\u001b[0m\u001b[1;33m.\u001b[0m\u001b[0m_get_value\u001b[0m\u001b[1;33m(\u001b[0m\u001b[0mkey\u001b[0m\u001b[1;33m)\u001b[0m\u001b[1;33m\u001b[0m\u001b[1;33m\u001b[0m\u001b[0m\n\u001b[0m\u001b[0;32m    883\u001b[0m \u001b[1;33m\u001b[0m\u001b[0m\n\u001b[0;32m    884\u001b[0m         \u001b[1;32mif\u001b[0m \u001b[0mis_hashable\u001b[0m\u001b[1;33m(\u001b[0m\u001b[0mkey\u001b[0m\u001b[1;33m)\u001b[0m\u001b[1;33m:\u001b[0m\u001b[1;33m\u001b[0m\u001b[1;33m\u001b[0m\u001b[0m\n",
      "\u001b[1;32m~\\anaconda3\\lib\\site-packages\\pandas\\core\\series.py\u001b[0m in \u001b[0;36m_get_value\u001b[1;34m(self, label, takeable)\u001b[0m\n\u001b[0;32m    987\u001b[0m \u001b[1;33m\u001b[0m\u001b[0m\n\u001b[0;32m    988\u001b[0m         \u001b[1;31m# Similar to Index.get_value, but we do not fall back to positional\u001b[0m\u001b[1;33m\u001b[0m\u001b[1;33m\u001b[0m\u001b[1;33m\u001b[0m\u001b[0m\n\u001b[1;32m--> 989\u001b[1;33m         \u001b[0mloc\u001b[0m \u001b[1;33m=\u001b[0m \u001b[0mself\u001b[0m\u001b[1;33m.\u001b[0m\u001b[0mindex\u001b[0m\u001b[1;33m.\u001b[0m\u001b[0mget_loc\u001b[0m\u001b[1;33m(\u001b[0m\u001b[0mlabel\u001b[0m\u001b[1;33m)\u001b[0m\u001b[1;33m\u001b[0m\u001b[1;33m\u001b[0m\u001b[0m\n\u001b[0m\u001b[0;32m    990\u001b[0m         \u001b[1;32mreturn\u001b[0m \u001b[0mself\u001b[0m\u001b[1;33m.\u001b[0m\u001b[0mindex\u001b[0m\u001b[1;33m.\u001b[0m\u001b[0m_get_values_for_loc\u001b[0m\u001b[1;33m(\u001b[0m\u001b[0mself\u001b[0m\u001b[1;33m,\u001b[0m \u001b[0mloc\u001b[0m\u001b[1;33m,\u001b[0m \u001b[0mlabel\u001b[0m\u001b[1;33m)\u001b[0m\u001b[1;33m\u001b[0m\u001b[1;33m\u001b[0m\u001b[0m\n\u001b[0;32m    991\u001b[0m \u001b[1;33m\u001b[0m\u001b[0m\n",
      "\u001b[1;32m~\\anaconda3\\lib\\site-packages\\pandas\\core\\indexes\\base.py\u001b[0m in \u001b[0;36mget_loc\u001b[1;34m(self, key, method, tolerance)\u001b[0m\n\u001b[0;32m   2895\u001b[0m                 \u001b[1;32mreturn\u001b[0m \u001b[0mself\u001b[0m\u001b[1;33m.\u001b[0m\u001b[0m_engine\u001b[0m\u001b[1;33m.\u001b[0m\u001b[0mget_loc\u001b[0m\u001b[1;33m(\u001b[0m\u001b[0mcasted_key\u001b[0m\u001b[1;33m)\u001b[0m\u001b[1;33m\u001b[0m\u001b[1;33m\u001b[0m\u001b[0m\n\u001b[0;32m   2896\u001b[0m             \u001b[1;32mexcept\u001b[0m \u001b[0mKeyError\u001b[0m \u001b[1;32mas\u001b[0m \u001b[0merr\u001b[0m\u001b[1;33m:\u001b[0m\u001b[1;33m\u001b[0m\u001b[1;33m\u001b[0m\u001b[0m\n\u001b[1;32m-> 2897\u001b[1;33m                 \u001b[1;32mraise\u001b[0m \u001b[0mKeyError\u001b[0m\u001b[1;33m(\u001b[0m\u001b[0mkey\u001b[0m\u001b[1;33m)\u001b[0m \u001b[1;32mfrom\u001b[0m \u001b[0merr\u001b[0m\u001b[1;33m\u001b[0m\u001b[1;33m\u001b[0m\u001b[0m\n\u001b[0m\u001b[0;32m   2898\u001b[0m \u001b[1;33m\u001b[0m\u001b[0m\n\u001b[0;32m   2899\u001b[0m         \u001b[1;32mif\u001b[0m \u001b[0mtolerance\u001b[0m \u001b[1;32mis\u001b[0m \u001b[1;32mnot\u001b[0m \u001b[1;32mNone\u001b[0m\u001b[1;33m:\u001b[0m\u001b[1;33m\u001b[0m\u001b[1;33m\u001b[0m\u001b[0m\n",
      "\u001b[1;31mKeyError\u001b[0m: 0"
     ]
    }
   ],
   "source": [
    "no_of_test_data =len(y_test)\n",
    "for i in range(no_of_test_data):\n",
    "    fpr , tpr = roc_curve(y_test[0], predicted_y[1])\n",
    "    roc_auc[i] = auc(fpr[i],tpr[i])"
   ]
  },
  {
   "cell_type": "code",
   "execution_count": 233,
   "metadata": {},
   "outputs": [
    {
     "data": {
      "text/plain": [
       "1496"
      ]
     },
     "execution_count": 233,
     "metadata": {},
     "output_type": "execute_result"
    }
   ],
   "source": []
  },
  {
   "cell_type": "code",
   "execution_count": null,
   "metadata": {},
   "outputs": [],
   "source": []
  }
 ],
 "metadata": {
  "kernelspec": {
   "display_name": "Python 3",
   "language": "python",
   "name": "python3"
  },
  "language_info": {
   "codemirror_mode": {
    "name": "ipython",
    "version": 3
   },
   "file_extension": ".py",
   "mimetype": "text/x-python",
   "name": "python",
   "nbconvert_exporter": "python",
   "pygments_lexer": "ipython3",
   "version": "3.8.5"
  }
 },
 "nbformat": 4,
 "nbformat_minor": 4
}
