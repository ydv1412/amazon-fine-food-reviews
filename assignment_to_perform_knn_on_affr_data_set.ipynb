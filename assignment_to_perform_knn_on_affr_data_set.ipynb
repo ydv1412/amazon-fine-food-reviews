{
 "cells": [
  {
   "cell_type": "code",
   "execution_count": 1,
   "metadata": {},
   "outputs": [],
   "source": [
    "from sklearn.feature_extraction.text import CountVectorizer\n",
    "import pandas as pd\n",
    "import numpy as np\n",
    "from sklearn.neighbors import KNeighborsClassifier\n",
    "from sklearn import model_selection\n",
    "from gensim.models import Word2Vec\n",
    "from gensim.models import KeyedVectors\n",
    "from sklearn.metrics import accuracy_score"
   ]
  },
  {
   "cell_type": "code",
   "execution_count": 2,
   "metadata": {},
   "outputs": [],
   "source": [
    "import sqlite3\n",
    "con = sqlite3.connect(\"./final.sqlite\")"
   ]
  },
  {
   "cell_type": "code",
   "execution_count": 3,
   "metadata": {},
   "outputs": [],
   "source": [
    "data_set = pd.read_sql_query(\"SELECT * FROM Reviews\",con)"
   ]
  },
  {
   "cell_type": "code",
   "execution_count": 4,
   "metadata": {},
   "outputs": [
    {
     "data": {
      "text/html": [
       "<div>\n",
       "<style scoped>\n",
       "    .dataframe tbody tr th:only-of-type {\n",
       "        vertical-align: middle;\n",
       "    }\n",
       "\n",
       "    .dataframe tbody tr th {\n",
       "        vertical-align: top;\n",
       "    }\n",
       "\n",
       "    .dataframe thead th {\n",
       "        text-align: right;\n",
       "    }\n",
       "</style>\n",
       "<table border=\"1\" class=\"dataframe\">\n",
       "  <thead>\n",
       "    <tr style=\"text-align: right;\">\n",
       "      <th></th>\n",
       "      <th>Id</th>\n",
       "      <th>ProductId</th>\n",
       "      <th>UserId</th>\n",
       "      <th>ProfileName</th>\n",
       "      <th>HelpfulnessNumerator</th>\n",
       "      <th>HelpfulnessDenominator</th>\n",
       "      <th>Time</th>\n",
       "      <th>Summary</th>\n",
       "      <th>Text</th>\n",
       "      <th>Score</th>\n",
       "      <th>Cleaned_text</th>\n",
       "    </tr>\n",
       "  </thead>\n",
       "  <tbody>\n",
       "    <tr>\n",
       "      <th>0</th>\n",
       "      <td>11</td>\n",
       "      <td>B0001PB9FE</td>\n",
       "      <td>A3HDKO7OW0QNK4</td>\n",
       "      <td>Canadian Fan</td>\n",
       "      <td>1</td>\n",
       "      <td>1</td>\n",
       "      <td>1107820800</td>\n",
       "      <td>The Best Hot Sauce in the World</td>\n",
       "      <td>I don't know if it's the cactus or the tequila...</td>\n",
       "      <td>1</td>\n",
       "      <td>b'dont know cactus tequila uniqu combin ingred...</td>\n",
       "    </tr>\n",
       "    <tr>\n",
       "      <th>1</th>\n",
       "      <td>253</td>\n",
       "      <td>B0002567IW</td>\n",
       "      <td>A1SSKFPX72MSMR</td>\n",
       "      <td>Janna M. Sicard \"missjanna\"</td>\n",
       "      <td>0</td>\n",
       "      <td>0</td>\n",
       "      <td>1344556800</td>\n",
       "      <td>Sad outcome</td>\n",
       "      <td>Five minutes in, one tentacle was bitten off, ...</td>\n",
       "      <td>0</td>\n",
       "      <td>b'five minut one tentacl bitten ball insid cra...</td>\n",
       "    </tr>\n",
       "    <tr>\n",
       "      <th>2</th>\n",
       "      <td>188</td>\n",
       "      <td>B00029XIZI</td>\n",
       "      <td>A2S72TUJDQUBMH</td>\n",
       "      <td>Nadia</td>\n",
       "      <td>0</td>\n",
       "      <td>0</td>\n",
       "      <td>1236124800</td>\n",
       "      <td>Miracle</td>\n",
       "      <td>My Scotties were full of hot spots and when I ...</td>\n",
       "      <td>1</td>\n",
       "      <td>b'scotti full hot spot use within week hot spo...</td>\n",
       "    </tr>\n",
       "    <tr>\n",
       "      <th>3</th>\n",
       "      <td>1011</td>\n",
       "      <td>B0002MKFEM</td>\n",
       "      <td>A3QLX72AO0DD5Z</td>\n",
       "      <td>Carlito Picache</td>\n",
       "      <td>1</td>\n",
       "      <td>2</td>\n",
       "      <td>1226361600</td>\n",
       "      <td>Way too salty</td>\n",
       "      <td>I tried this and I found it too salty.&lt;br /&gt;Pl...</td>\n",
       "      <td>1</td>\n",
       "      <td>b'tri found salti plus ate fish sauc fish real...</td>\n",
       "    </tr>\n",
       "    <tr>\n",
       "      <th>4</th>\n",
       "      <td>969</td>\n",
       "      <td>B0002XIB2Y</td>\n",
       "      <td>A3NV17B17PFB7G</td>\n",
       "      <td>Susan</td>\n",
       "      <td>3</td>\n",
       "      <td>3</td>\n",
       "      <td>1228176000</td>\n",
       "      <td>WONDERFUL gravy!</td>\n",
       "      <td>This gravy mix is excellent ... except, don't ...</td>\n",
       "      <td>1</td>\n",
       "      <td>b'gravi mix excel except dont use water call u...</td>\n",
       "    </tr>\n",
       "    <tr>\n",
       "      <th>...</th>\n",
       "      <td>...</td>\n",
       "      <td>...</td>\n",
       "      <td>...</td>\n",
       "      <td>...</td>\n",
       "      <td>...</td>\n",
       "      <td>...</td>\n",
       "      <td>...</td>\n",
       "      <td>...</td>\n",
       "      <td>...</td>\n",
       "      <td>...</td>\n",
       "      <td>...</td>\n",
       "    </tr>\n",
       "    <tr>\n",
       "      <th>981</th>\n",
       "      <td>765</td>\n",
       "      <td>B009HINRX8</td>\n",
       "      <td>A1OEL4UZT3KKI4</td>\n",
       "      <td>coffee drinker in PA \"coffee drinker in PA\"</td>\n",
       "      <td>0</td>\n",
       "      <td>0</td>\n",
       "      <td>1344988800</td>\n",
       "      <td>great coffee - terrible price</td>\n",
       "      <td>This is one of the best choices, in my opinion...</td>\n",
       "      <td>1</td>\n",
       "      <td>b'one best choic opinion also ador amazon need...</td>\n",
       "    </tr>\n",
       "    <tr>\n",
       "      <th>982</th>\n",
       "      <td>763</td>\n",
       "      <td>B009HINRX8</td>\n",
       "      <td>A3N9477PUE6WMR</td>\n",
       "      <td>patc477</td>\n",
       "      <td>4</td>\n",
       "      <td>4</td>\n",
       "      <td>1323302400</td>\n",
       "      <td>Good Tasting cup o' joe</td>\n",
       "      <td>This is a bold blend that has a great taste. T...</td>\n",
       "      <td>1</td>\n",
       "      <td>b'bold blend great tast flavor come burst usua...</td>\n",
       "    </tr>\n",
       "    <tr>\n",
       "      <th>983</th>\n",
       "      <td>764</td>\n",
       "      <td>B009HINRX8</td>\n",
       "      <td>ADDBLG0CFY9AI</td>\n",
       "      <td>S.A.D.</td>\n",
       "      <td>1</td>\n",
       "      <td>1</td>\n",
       "      <td>1326758400</td>\n",
       "      <td>Best of the Tassimo's</td>\n",
       "      <td>We've tried many Tassimo flavors.  This is by ...</td>\n",
       "      <td>1</td>\n",
       "      <td>b'weve tri mani tassimo flavor far favorit nor...</td>\n",
       "    </tr>\n",
       "    <tr>\n",
       "      <th>984</th>\n",
       "      <td>768</td>\n",
       "      <td>B009HINRX8</td>\n",
       "      <td>A2CAZG1CQ8BQI5</td>\n",
       "      <td>Patricia J. Nohalty</td>\n",
       "      <td>0</td>\n",
       "      <td>0</td>\n",
       "      <td>1337212800</td>\n",
       "      <td>Kona for Tassimo</td>\n",
       "      <td>Of all the coffee's available for Tassimo this...</td>\n",
       "      <td>1</td>\n",
       "      <td>b'coffe avail tassimo kona richest flavor fant...</td>\n",
       "    </tr>\n",
       "    <tr>\n",
       "      <th>985</th>\n",
       "      <td>766</td>\n",
       "      <td>B009HINRX8</td>\n",
       "      <td>A39BLB42U7M6BD</td>\n",
       "      <td>James Brooks</td>\n",
       "      <td>0</td>\n",
       "      <td>0</td>\n",
       "      <td>1344643200</td>\n",
       "      <td>One of the better T-Discs</td>\n",
       "      <td>I have tried about 75% of the available T-Disc...</td>\n",
       "      <td>1</td>\n",
       "      <td>b'tri avail tdisc kona blend one best regularu...</td>\n",
       "    </tr>\n",
       "  </tbody>\n",
       "</table>\n",
       "<p>986 rows × 11 columns</p>\n",
       "</div>"
      ],
      "text/plain": [
       "       Id   ProductId          UserId  \\\n",
       "0      11  B0001PB9FE  A3HDKO7OW0QNK4   \n",
       "1     253  B0002567IW  A1SSKFPX72MSMR   \n",
       "2     188  B00029XIZI  A2S72TUJDQUBMH   \n",
       "3    1011  B0002MKFEM  A3QLX72AO0DD5Z   \n",
       "4     969  B0002XIB2Y  A3NV17B17PFB7G   \n",
       "..    ...         ...             ...   \n",
       "981   765  B009HINRX8  A1OEL4UZT3KKI4   \n",
       "982   763  B009HINRX8  A3N9477PUE6WMR   \n",
       "983   764  B009HINRX8   ADDBLG0CFY9AI   \n",
       "984   768  B009HINRX8  A2CAZG1CQ8BQI5   \n",
       "985   766  B009HINRX8  A39BLB42U7M6BD   \n",
       "\n",
       "                                     ProfileName  HelpfulnessNumerator  \\\n",
       "0                                   Canadian Fan                     1   \n",
       "1                    Janna M. Sicard \"missjanna\"                     0   \n",
       "2                                          Nadia                     0   \n",
       "3                                Carlito Picache                     1   \n",
       "4                                          Susan                     3   \n",
       "..                                           ...                   ...   \n",
       "981  coffee drinker in PA \"coffee drinker in PA\"                     0   \n",
       "982                                      patc477                     4   \n",
       "983                                       S.A.D.                     1   \n",
       "984                          Patricia J. Nohalty                     0   \n",
       "985                                 James Brooks                     0   \n",
       "\n",
       "     HelpfulnessDenominator        Time                          Summary  \\\n",
       "0                         1  1107820800  The Best Hot Sauce in the World   \n",
       "1                         0  1344556800                      Sad outcome   \n",
       "2                         0  1236124800                          Miracle   \n",
       "3                         2  1226361600                    Way too salty   \n",
       "4                         3  1228176000                 WONDERFUL gravy!   \n",
       "..                      ...         ...                              ...   \n",
       "981                       0  1344988800    great coffee - terrible price   \n",
       "982                       4  1323302400          Good Tasting cup o' joe   \n",
       "983                       1  1326758400            Best of the Tassimo's   \n",
       "984                       0  1337212800                 Kona for Tassimo   \n",
       "985                       0  1344643200        One of the better T-Discs   \n",
       "\n",
       "                                                  Text  Score  \\\n",
       "0    I don't know if it's the cactus or the tequila...      1   \n",
       "1    Five minutes in, one tentacle was bitten off, ...      0   \n",
       "2    My Scotties were full of hot spots and when I ...      1   \n",
       "3    I tried this and I found it too salty.<br />Pl...      1   \n",
       "4    This gravy mix is excellent ... except, don't ...      1   \n",
       "..                                                 ...    ...   \n",
       "981  This is one of the best choices, in my opinion...      1   \n",
       "982  This is a bold blend that has a great taste. T...      1   \n",
       "983  We've tried many Tassimo flavors.  This is by ...      1   \n",
       "984  Of all the coffee's available for Tassimo this...      1   \n",
       "985  I have tried about 75% of the available T-Disc...      1   \n",
       "\n",
       "                                          Cleaned_text  \n",
       "0    b'dont know cactus tequila uniqu combin ingred...  \n",
       "1    b'five minut one tentacl bitten ball insid cra...  \n",
       "2    b'scotti full hot spot use within week hot spo...  \n",
       "3    b'tri found salti plus ate fish sauc fish real...  \n",
       "4    b'gravi mix excel except dont use water call u...  \n",
       "..                                                 ...  \n",
       "981  b'one best choic opinion also ador amazon need...  \n",
       "982  b'bold blend great tast flavor come burst usua...  \n",
       "983  b'weve tri mani tassimo flavor far favorit nor...  \n",
       "984  b'coffe avail tassimo kona richest flavor fant...  \n",
       "985  b'tri avail tdisc kona blend one best regularu...  \n",
       "\n",
       "[986 rows x 11 columns]"
      ]
     },
     "execution_count": 4,
     "metadata": {},
     "output_type": "execute_result"
    }
   ],
   "source": [
    "data_set"
   ]
  },
  {
   "cell_type": "code",
   "execution_count": 5,
   "metadata": {},
   "outputs": [
    {
     "name": "stdout",
     "output_type": "stream",
     "text": [
      "Requirement already satisfied: gensim in c:\\users\\shri\\anaconda3\\lib\\site-packages (3.8.3)\n",
      "Requirement already satisfied: smart-open>=1.8.1 in c:\\users\\shri\\anaconda3\\lib\\site-packages (from gensim) (4.2.0)\n",
      "Requirement already satisfied: scipy>=0.18.1 in c:\\users\\shri\\anaconda3\\lib\\site-packages (from gensim) (1.5.2)\n",
      "Requirement already satisfied: numpy>=1.11.3 in c:\\users\\shri\\anaconda3\\lib\\site-packages (from gensim) (1.19.2)\n",
      "Requirement already satisfied: six>=1.5.0 in c:\\users\\shri\\anaconda3\\lib\\site-packages (from gensim) (1.15.0)\n",
      "Requirement already satisfied: Cython==0.29.14 in c:\\users\\shri\\anaconda3\\lib\\site-packages (from gensim) (0.29.14)\n"
     ]
    }
   ],
   "source": [
    "!pip3 install gensim"
   ]
  },
  {
   "cell_type": "code",
   "execution_count": null,
   "metadata": {},
   "outputs": [],
   "source": []
  },
  {
   "cell_type": "code",
   "execution_count": 6,
   "metadata": {},
   "outputs": [],
   "source": [
    "cleaned_text = data_set[\"Cleaned_text\"]"
   ]
  },
  {
   "cell_type": "code",
   "execution_count": 7,
   "metadata": {
    "scrolled": true
   },
   "outputs": [
    {
     "data": {
      "text/plain": [
       "b'dont know cactus tequila uniqu combin ingredi flavour hot sauc make one kind pick bottl trip brought back home total blown away realiz simpli couldnt find anywher citi bum magic internet case sauc ecstat love hot saucei mean realli love hot sauc dont want sauc tasteless burn throat grab bottl tequila picant gourmet inclan realiz tast never want use sauc thank person incred servic'"
      ]
     },
     "execution_count": 7,
     "metadata": {},
     "output_type": "execute_result"
    }
   ],
   "source": [
    "cleaned_text[0]"
   ]
  },
  {
   "cell_type": "code",
   "execution_count": 8,
   "metadata": {},
   "outputs": [],
   "source": [
    "trigram = CountVectorizer(lowercase= True , ngram_range=(1,3))"
   ]
  },
  {
   "cell_type": "code",
   "execution_count": 9,
   "metadata": {},
   "outputs": [],
   "source": [
    "trigram_vector= trigram.fit_transform(cleaned_text)"
   ]
  },
  {
   "cell_type": "code",
   "execution_count": 10,
   "metadata": {},
   "outputs": [
    {
     "data": {
      "text/plain": [
       "(986, 64873)"
      ]
     },
     "execution_count": 10,
     "metadata": {},
     "output_type": "execute_result"
    }
   ],
   "source": [
    "trigram_vector.shape"
   ]
  },
  {
   "cell_type": "code",
   "execution_count": 11,
   "metadata": {},
   "outputs": [],
   "source": [
    "x = trigram_vector\n",
    "y = data_set[\"Score\"]"
   ]
  },
  {
   "cell_type": "code",
   "execution_count": 12,
   "metadata": {},
   "outputs": [],
   "source": [
    "#### we have trigram_vector as our x and scores as y now we are splitting them into test and train data set to perform simple\n",
    "#####classification"
   ]
  },
  {
   "cell_type": "code",
   "execution_count": 13,
   "metadata": {},
   "outputs": [],
   "source": [
    "x_train , x_test , y_train , y_test = model_selection.train_test_split( x , y , test_size = 0.3 ,random_state = 0)"
   ]
  },
  {
   "cell_type": "code",
   "execution_count": 14,
   "metadata": {},
   "outputs": [
    {
     "data": {
      "text/plain": [
       "(690, 64873)"
      ]
     },
     "execution_count": 14,
     "metadata": {},
     "output_type": "execute_result"
    }
   ],
   "source": [
    "x_train.shape"
   ]
  },
  {
   "cell_type": "code",
   "execution_count": 15,
   "metadata": {},
   "outputs": [
    {
     "data": {
      "text/plain": [
       "(296, 64873)"
      ]
     },
     "execution_count": 15,
     "metadata": {},
     "output_type": "execute_result"
    }
   ],
   "source": [
    "x_test.shape"
   ]
  },
  {
   "cell_type": "code",
   "execution_count": 16,
   "metadata": {},
   "outputs": [
    {
     "name": "stdout",
     "output_type": "stream",
     "text": [
      "accuracy score for k = 1 is 28\n"
     ]
    }
   ],
   "source": [
    "##### acuuracy testing using n gram at k=1\n",
    "k = 1\n",
    "model = KNeighborsClassifier(n_neighbors = k)\n",
    "model.fit(x_train,y_train)\n",
    "predicted_values = model.predict(x_test)\n",
    "accuracy = accuracy_score(y_test , predicted_values ,normalize = True)*float(100)\n",
    "print(\"accuracy score for k = %d is %d\" %(k,accuracy))"
   ]
  },
  {
   "cell_type": "code",
   "execution_count": 17,
   "metadata": {},
   "outputs": [
    {
     "name": "stdout",
     "output_type": "stream",
     "text": [
      "accuracy score for k = 3 is 38\n"
     ]
    }
   ],
   "source": [
    "##### acuuracy testing using n gram at k=3\n",
    "k = 3\n",
    "model = KNeighborsClassifier(n_neighbors = k)\n",
    "model.fit(x_train,y_train)\n",
    "predicted_values = model.predict(x_test)\n",
    "accuracy = accuracy_score(y_test , predicted_values ,normalize = True)*float(100)\n",
    "print(\"accuracy score for k = %d is %d\" %(k,accuracy))"
   ]
  },
  {
   "cell_type": "code",
   "execution_count": 18,
   "metadata": {},
   "outputs": [
    {
     "name": "stdout",
     "output_type": "stream",
     "text": [
      "accuracy score for k = 5 is 77\n"
     ]
    }
   ],
   "source": [
    "##### acuuracy testing using n gram at k=5\n",
    "k = 5\n",
    "model = KNeighborsClassifier(n_neighbors = k)\n",
    "model.fit(x_train,y_train)\n",
    "predicted_values = model.predict(x_test)\n",
    "accuracy = accuracy_score(y_test , predicted_values ,normalize = True)*float(100)\n",
    "print(\"accuracy score for k = %d is %d\" %(k,accuracy))"
   ]
  },
  {
   "cell_type": "code",
   "execution_count": 19,
   "metadata": {},
   "outputs": [
    {
     "name": "stdout",
     "output_type": "stream",
     "text": [
      "accuracy score for k = 7 is 82\n"
     ]
    }
   ],
   "source": [
    "##### acuuracy testing using n gram at k=7\n",
    "k = 7\n",
    "model = KNeighborsClassifier(n_neighbors = k)\n",
    "model.fit(x_train,y_train)\n",
    "predicted_values = model.predict(x_test)\n",
    "accuracy = accuracy_score(y_test , predicted_values ,normalize = True)*float(100)\n",
    "print(\"accuracy score for k = %d is %d\" %(k,accuracy))"
   ]
  },
  {
   "cell_type": "code",
   "execution_count": 20,
   "metadata": {},
   "outputs": [
    {
     "name": "stdout",
     "output_type": "stream",
     "text": [
      "accuracy score for k = 9 is 84\n"
     ]
    }
   ],
   "source": [
    "##### acuuracy testing using n gram at k=9\n",
    "k = 9\n",
    "model = KNeighborsClassifier(n_neighbors = k)\n",
    "model.fit(x_train,y_train)\n",
    "predicted_values = model.predict(x_test)\n",
    "accuracy = accuracy_score(y_test , predicted_values ,normalize = True)*float(100)\n",
    "print(\"accuracy score for k = %d is %d\" %(k,accuracy))"
   ]
  },
  {
   "cell_type": "code",
   "execution_count": 21,
   "metadata": {},
   "outputs": [
    {
     "name": "stdout",
     "output_type": "stream",
     "text": [
      "accuracy score for k = 11 is 84\n"
     ]
    }
   ],
   "source": [
    "##### acuuracy testing using n gram at k=11\n",
    "k = 11\n",
    "model = KNeighborsClassifier(n_neighbors = k)\n",
    "model.fit(x_train,y_train)\n",
    "predicted_values = model.predict(x_test)\n",
    "accuracy = accuracy_score(y_test , predicted_values ,normalize = True)*float(100)\n",
    "print(\"accuracy score for k = %d is %d\" %(k,accuracy))"
   ]
  },
  {
   "cell_type": "code",
   "execution_count": 22,
   "metadata": {},
   "outputs": [
    {
     "name": "stdout",
     "output_type": "stream",
     "text": [
      "accuracy score for k = 13 is 84\n"
     ]
    }
   ],
   "source": [
    "##### acuuracy testing using n gram at k=13\n",
    "k = 13\n",
    "model = KNeighborsClassifier(n_neighbors = k)\n",
    "model.fit(x_train,y_train)\n",
    "predicted_values = model.predict(x_test)\n",
    "accuracy = accuracy_score(y_test , predicted_values ,normalize = True)*float(100)\n",
    "print(\"accuracy score for k = %d is %d\" %(k,accuracy))"
   ]
  },
  {
   "cell_type": "code",
   "execution_count": 23,
   "metadata": {},
   "outputs": [
    {
     "name": "stdout",
     "output_type": "stream",
     "text": [
      "accuracy score for k = 15 is 84\n"
     ]
    }
   ],
   "source": [
    "##### acuuracy testing using n gram at k=15\n",
    "k = 15\n",
    "model = KNeighborsClassifier(n_neighbors = k)\n",
    "model.fit(x_train,y_train)\n",
    "predicted_values = model.predict(x_test)\n",
    "accuracy = accuracy_score(y_test , predicted_values ,normalize = True)*float(100)\n",
    "print(\"accuracy score for k = %d is %d\" %(k,accuracy))"
   ]
  },
  {
   "cell_type": "code",
   "execution_count": 24,
   "metadata": {},
   "outputs": [
    {
     "name": "stdout",
     "output_type": "stream",
     "text": [
      "accuracy score for k = 17 is 84\n"
     ]
    }
   ],
   "source": [
    "##### acuuracy testing using n gram at k=17\n",
    "k = 17\n",
    "model = KNeighborsClassifier(n_neighbors = k)\n",
    "model.fit(x_train,y_train)\n",
    "predicted_values = model.predict(x_test)\n",
    "accuracy = accuracy_score(y_test , predicted_values ,normalize = True)*float(100)\n",
    "print(\"accuracy score for k = %d is %d\" %(k,accuracy))"
   ]
  },
  {
   "cell_type": "code",
   "execution_count": 25,
   "metadata": {},
   "outputs": [
    {
     "name": "stdout",
     "output_type": "stream",
     "text": [
      "accuracy score for k = 19 is 84\n"
     ]
    }
   ],
   "source": [
    "##### acuuracy testing using n gram at k=19\n",
    "k = 19\n",
    "model = KNeighborsClassifier(n_neighbors = k)\n",
    "model.fit(x_train,y_train)\n",
    "predicted_values = model.predict(x_test)\n",
    "accuracy = accuracy_score(y_test , predicted_values ,normalize = True)*float(100)\n",
    "print(\"accuracy score for k = %d is %d\" %(k,accuracy))"
   ]
  },
  {
   "cell_type": "code",
   "execution_count": 26,
   "metadata": {},
   "outputs": [
    {
     "name": "stdout",
     "output_type": "stream",
     "text": [
      "accuracy score for k = 21 is 84\n"
     ]
    }
   ],
   "source": [
    "##### acuuracy testing using n gram at k=21\n",
    "k = 21\n",
    "model = KNeighborsClassifier(n_neighbors = k)\n",
    "model.fit(x_train,y_train)\n",
    "predicted_values = model.predict(x_test)\n",
    "accuracy = accuracy_score(y_test , predicted_values ,normalize = True)*float(100)\n",
    "print(\"accuracy score for k = %d is %d\" %(k,accuracy))"
   ]
  },
  {
   "cell_type": "code",
   "execution_count": 27,
   "metadata": {},
   "outputs": [
    {
     "name": "stdout",
     "output_type": "stream",
     "text": [
      "accuracy score for k = 23 is 84\n"
     ]
    }
   ],
   "source": [
    "##### acuuracy testing using n gram at k=23\n",
    "k = 23\n",
    "model = KNeighborsClassifier(n_neighbors = k)\n",
    "model.fit(x_train,y_train)\n",
    "predicted_values = model.predict(x_test)\n",
    "accuracy = accuracy_score(y_test , predicted_values ,normalize = True)*float(100)\n",
    "print(\"accuracy score for k = %d is %d\" %(k,accuracy))"
   ]
  },
  {
   "cell_type": "code",
   "execution_count": 28,
   "metadata": {},
   "outputs": [
    {
     "name": "stdout",
     "output_type": "stream",
     "text": [
      "accuracy score for k = 25 is 84\n"
     ]
    }
   ],
   "source": [
    "##### acuuracy testing using n gram at k=25\n",
    "k = 25\n",
    "model = KNeighborsClassifier(n_neighbors = k)\n",
    "model.fit(x_train,y_train)\n",
    "predicted_values = model.predict(x_test)\n",
    "accuracy = accuracy_score(y_test , predicted_values ,normalize = True)*float(100)\n",
    "print(\"accuracy score for k = %d is %d\" %(k,accuracy))"
   ]
  },
  {
   "cell_type": "code",
   "execution_count": 29,
   "metadata": {},
   "outputs": [
    {
     "name": "stdout",
     "output_type": "stream",
     "text": [
      "accuracy score for k = 51 is 84\n"
     ]
    }
   ],
   "source": [
    "##### acuuracy testing using n gram at k=51\n",
    "k = 51\n",
    "model = KNeighborsClassifier(n_neighbors = k)\n",
    "model.fit(x_train,y_train)\n",
    "predicted_values = model.predict(x_test)\n",
    "accuracy = accuracy_score(y_test , predicted_values ,normalize = True)*float(100)\n",
    "print(\"accuracy score for k = %d is %d\" %(k,accuracy))"
   ]
  },
  {
   "cell_type": "code",
   "execution_count": 30,
   "metadata": {},
   "outputs": [
    {
     "name": "stdout",
     "output_type": "stream",
     "text": [
      "accuracy score for k = 101 is 84\n"
     ]
    }
   ],
   "source": [
    "##### acuuracy testing using n gram at k=101\n",
    "k = 101\n",
    "model = KNeighborsClassifier(n_neighbors = k)\n",
    "model.fit(x_train,y_train)\n",
    "predicted_values = model.predict(x_test)\n",
    "accuracy = accuracy_score(y_test , predicted_values ,normalize = True)*float(100)\n",
    "print(\"accuracy score for k = %d is %d\" %(k,accuracy))"
   ]
  },
  {
   "cell_type": "code",
   "execution_count": 31,
   "metadata": {},
   "outputs": [
    {
     "name": "stdout",
     "output_type": "stream",
     "text": [
      "accuracy score for k = 151 is 84\n"
     ]
    }
   ],
   "source": [
    "##### acuuracy testing using n gram at k=151\n",
    "k = 151\n",
    "model = KNeighborsClassifier(n_neighbors = k)\n",
    "model.fit(x_train,y_train)\n",
    "predicted_values = model.predict(x_test)\n",
    "accuracy = accuracy_score(y_test , predicted_values ,normalize = True)*float(100)\n",
    "print(\"accuracy score for k = %d is %d\" %(k,accuracy))"
   ]
  },
  {
   "cell_type": "code",
   "execution_count": 32,
   "metadata": {},
   "outputs": [
    {
     "name": "stdout",
     "output_type": "stream",
     "text": [
      "accuracy score for k = 1 is 100\n"
     ]
    }
   ],
   "source": [
    "#### finding training error at k=1\n",
    "k = 1\n",
    "model = KNeighborsClassifier(n_neighbors = k)\n",
    "model.fit(x_train,y_train)\n",
    "predicted_values = model.predict(x_train)\n",
    "accuracy = accuracy_score(y_train , predicted_values ,normalize = True)*float(100)\n",
    "print(\"accuracy score for k = %d is %d\" %(k,accuracy))"
   ]
  },
  {
   "cell_type": "code",
   "execution_count": 33,
   "metadata": {},
   "outputs": [
    {
     "name": "stdout",
     "output_type": "stream",
     "text": [
      "accuracy score for k = 3 is 92\n"
     ]
    }
   ],
   "source": [
    "#### finding training error at k=3\n",
    "k = 3\n",
    "model = KNeighborsClassifier(n_neighbors = k)\n",
    "model.fit(x_train,y_train)\n",
    "predicted_values = model.predict(x_train)\n",
    "accuracy = accuracy_score(y_train , predicted_values ,normalize = True)*float(100)\n",
    "print(\"accuracy score for k = %d is %d\" %(k,accuracy))"
   ]
  },
  {
   "cell_type": "code",
   "execution_count": 34,
   "metadata": {},
   "outputs": [
    {
     "name": "stdout",
     "output_type": "stream",
     "text": [
      "accuracy score for k = 5 is 93\n"
     ]
    }
   ],
   "source": [
    "#### finding training error at k=5\n",
    "k = 5\n",
    "model = KNeighborsClassifier(n_neighbors = k)\n",
    "model.fit(x_train,y_train)\n",
    "predicted_values = model.predict(x_train)\n",
    "accuracy = accuracy_score(y_train , predicted_values ,normalize = True)*float(100)\n",
    "print(\"accuracy score for k = %d is %d\" %(k,accuracy))"
   ]
  },
  {
   "cell_type": "code",
   "execution_count": 35,
   "metadata": {},
   "outputs": [],
   "source": [
    "#### performing k_fold(10) cross validation on data_set"
   ]
  },
  {
   "cell_type": "code",
   "execution_count": 36,
   "metadata": {},
   "outputs": [
    {
     "name": "stdout",
     "output_type": "stream",
     "text": [
      "[1, 3, 5, 7, 9, 11, 13, 15, 17, 19, 21, 23, 25, 27, 29, 31, 33, 35, 37, 39, 41, 43, 45, 47, 49]\n",
      "for k = 1 accuracy is 32\n",
      "for k = 3 accuracy is 43\n",
      "for k = 5 accuracy is 77\n",
      "for k = 7 accuracy is 81\n",
      "for k = 9 accuracy is 83\n",
      "for k = 11 accuracy is 83\n",
      "for k = 13 accuracy is 83\n",
      "for k = 15 accuracy is 83\n",
      "for k = 17 accuracy is 83\n",
      "for k = 19 accuracy is 83\n",
      "for k = 21 accuracy is 83\n",
      "for k = 23 accuracy is 83\n",
      "for k = 25 accuracy is 83\n",
      "for k = 27 accuracy is 83\n",
      "for k = 29 accuracy is 83\n",
      "for k = 31 accuracy is 83\n",
      "for k = 33 accuracy is 83\n",
      "for k = 35 accuracy is 83\n",
      "for k = 37 accuracy is 83\n",
      "for k = 39 accuracy is 83\n",
      "for k = 41 accuracy is 83\n",
      "for k = 43 accuracy is 83\n",
      "for k = 45 accuracy is 83\n",
      "for k = 47 accuracy is 83\n",
      "for k = 49 accuracy is 83\n"
     ]
    }
   ],
   "source": [
    "k = list(range(0,50))\n",
    "k = list(filter(lambda x : x%2 != 0,k))\n",
    "print(k)\n",
    "cv = []\n",
    "for i in k:\n",
    "    model = KNeighborsClassifier(i)\n",
    "    accuracy = model_selection.cross_val_score(model , x_train , y_train ,cv = 10 , scoring = \"accuracy\")*float(100)\n",
    "    print(\"for k = %d accuracy is %d\"%(i,accuracy.mean()))\n",
    "    cv.append(accuracy.mean())\n",
    "\n",
    "optimal_k = k[cv.index(max(cv))]\n",
    "    \n"
   ]
  },
  {
   "cell_type": "code",
   "execution_count": 37,
   "metadata": {},
   "outputs": [
    {
     "name": "stdout",
     "output_type": "stream",
     "text": [
      "the accuracy for optimal k = 11 is 84\n"
     ]
    }
   ],
   "source": [
    "### calculating nrmalised error on x_test\n",
    "model = KNeighborsClassifier(n_neighbors = optimal_k)\n",
    "model.fit(x_train,y_train)\n",
    "predicted_values = model.predict(x_test)\n",
    "accuracy = accuracy_score(y_test , predicted_values ,normalize = True)*float(100)\n",
    "print(\"the accuracy for optimal k = %d is %d\" %(optimal_k,accuracy))"
   ]
  },
  {
   "cell_type": "code",
   "execution_count": null,
   "metadata": {},
   "outputs": [],
   "source": []
  }
 ],
 "metadata": {
  "kernelspec": {
   "display_name": "Python 3",
   "language": "python",
   "name": "python3"
  },
  "language_info": {
   "codemirror_mode": {
    "name": "ipython",
    "version": 3
   },
   "file_extension": ".py",
   "mimetype": "text/x-python",
   "name": "python",
   "nbconvert_exporter": "python",
   "pygments_lexer": "ipython3",
   "version": "3.8.5"
  }
 },
 "nbformat": 4,
 "nbformat_minor": 4
}
